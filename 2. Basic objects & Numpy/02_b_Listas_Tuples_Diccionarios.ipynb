{
 "cells": [
  {
   "cell_type": "markdown",
   "metadata": {},
   "source": [
    "# Listas, tuples y diccionarios\n",
    "\n",
    "*   Instructor: Victor Fuentes Campos\n",
    "*   Curso: Fundamentos de Programación en Python para las CCSS y Gestión Pública\n",
    "*   Adapatado de las clases de Carla Solís y Alexander Quispe"
   ]
  },
  {
   "cell_type": "markdown",
   "metadata": {},
   "source": [
    "<a class=\"anchor\" id=\"principio\"></a>\n",
    "\n",
    "## Introducción"
   ]
  },
  {
   "cell_type": "markdown",
   "metadata": {},
   "source": [
    "Hasta ahora los tipos de datos que hemos estudiado tienen un sólo elemento. Sin embargo, hay estructuras más complejas que pueden contener varios de esos tipos de datos. \n",
    "\n",
    "[1. Listas](#listas)   \n",
    "[2. Tuples](#tuples)   \n",
    "[3. Sets](#sets)   \n",
    "[4. Diccionarios](#diccionarios)  "
   ]
  },
  {
   "cell_type": "markdown",
   "metadata": {},
   "source": [
    "<a class=\"anchor\" id=\"listas\"></a>\n",
    "## 1. [Listas](https://www.w3schools.com/python/python_lists.asp)"
   ]
  },
  {
   "cell_type": "markdown",
   "metadata": {},
   "source": [
    "Empecemos con un video sencillo sobre [listas](https://www.youtube.com/watch?v=MwyD9PmyW3k)"
   ]
  },
  {
   "cell_type": "markdown",
   "metadata": {},
   "source": [
    "- Las listas nos permiten almacenar varios tipos de datos como un conjunto ordenado de valores\n",
    "- Es modificable\n",
    "- Es una estructura de datos muy versátil y puede hacer muchas tareas"
   ]
  },
  {
   "cell_type": "markdown",
   "metadata": {},
   "source": [
    "### Lo básico"
   ]
  },
  {
   "cell_type": "markdown",
   "metadata": {},
   "source": [
    "¿Cómo hacemos una lista? Usamos **brackets []**"
   ]
  },
  {
   "cell_type": "code",
   "execution_count": null,
   "metadata": {},
   "outputs": [],
   "source": [
    "lst = [1,2,3,4,5] # Brackets con elementos separados por comas\n",
    "print(lst)"
   ]
  },
  {
   "cell_type": "code",
   "execution_count": null,
   "metadata": {},
   "outputs": [],
   "source": [
    "cursos = [\"Historia\", \"Economia\", \"Antropologia\", \"RSP\", \"Derecho\"]\n",
    "print(cursos)"
   ]
  },
  {
   "cell_type": "markdown",
   "metadata": {},
   "source": [
    "Las listas pueden contener elementos de diferentes tipos"
   ]
  },
  {
   "cell_type": "code",
   "execution_count": null,
   "metadata": {},
   "outputs": [],
   "source": [
    "mi_lista = [5, \"hola\", 50.55, True, \"chau\"]\n",
    "mi_lista"
   ]
  },
  {
   "cell_type": "markdown",
   "metadata": {},
   "source": [
    "Usualmente, trabajamos con listas que tienen datos del mismo tipo, ya que iteramos con ellas y el código podría arrojar error. "
   ]
  },
  {
   "cell_type": "markdown",
   "metadata": {},
   "source": [
    "Ojo: Aquí los brackets son diferentes a los que se usan para rebanar strings!"
   ]
  },
  {
   "cell_type": "code",
   "execution_count": null,
   "metadata": {},
   "outputs": [],
   "source": [
    "mensaje = \"Buenos días con todas y todos\"\n",
    "mensaje[0:10]\n",
    "\n",
    "len(mensaje)"
   ]
  },
  {
   "cell_type": "markdown",
   "metadata": {},
   "source": [
    "Aquí creamos una lista vacía"
   ]
  },
  {
   "cell_type": "code",
   "execution_count": null,
   "metadata": {},
   "outputs": [],
   "source": [
    "vacia = []"
   ]
  },
  {
   "cell_type": "markdown",
   "metadata": {},
   "source": [
    "Se pueden sumar listas"
   ]
  },
  {
   "cell_type": "code",
   "execution_count": null,
   "metadata": {},
   "outputs": [],
   "source": [
    "primera_parte = [1, 2, 3, 4, 5]\n",
    "segunda_parte = [6, 7, 8, 9, 10]\n",
    "\n",
    "tercera_parte = primera_parte + segunda_parte\n",
    "tercera_parte"
   ]
  },
  {
   "cell_type": "code",
   "execution_count": null,
   "metadata": {},
   "outputs": [],
   "source": [
    "tercera_parte[6]"
   ]
  },
  {
   "cell_type": "markdown",
   "metadata": {},
   "source": [
    "A veces queremos una lista de un tamaño determinado: "
   ]
  },
  {
   "cell_type": "code",
   "execution_count": null,
   "metadata": {},
   "outputs": [],
   "source": [
    "n = 15\n",
    "lst = [1] * n\n",
    "lst"
   ]
  },
  {
   "cell_type": "code",
   "execution_count": null,
   "metadata": {},
   "outputs": [],
   "source": [
    "n = 4\n",
    "lst = [0, 1, 2] * n\n",
    "print(lst)   ## La multiplicación repite la lista n veces"
   ]
  },
  {
   "cell_type": "markdown",
   "metadata": {},
   "source": [
    "Podemos ver cuántos elementos tiene una lista"
   ]
  },
  {
   "cell_type": "code",
   "execution_count": null,
   "metadata": {},
   "outputs": [],
   "source": [
    "print(len(mi_lista))\n",
    "print(len(segunda_parte))\n",
    "print(len(lst))"
   ]
  },
  {
   "cell_type": "markdown",
   "metadata": {},
   "source": [
    "Se pueden acceder a elementos individuales de una lista.   \n",
    "\n",
    ">OJO: Python es un lenguaje indexado en 0, por lo que la enumeración de las listas empieza en 0\n"
   ]
  },
  {
   "cell_type": "code",
   "execution_count": null,
   "metadata": {},
   "outputs": [],
   "source": [
    "cursos"
   ]
  },
  {
   "cell_type": "code",
   "execution_count": null,
   "metadata": {},
   "outputs": [],
   "source": [
    "cursos[1]"
   ]
  },
  {
   "cell_type": "code",
   "execution_count": null,
   "metadata": {},
   "outputs": [],
   "source": [
    "cursos[3]"
   ]
  },
  {
   "cell_type": "markdown",
   "metadata": {},
   "source": [
    "Se puede acceder a una rebanada de la lista"
   ]
  },
  {
   "cell_type": "code",
   "execution_count": null,
   "metadata": {},
   "outputs": [],
   "source": [
    "cursos[0:4] ## Ojo: El ultimo elemento del intervalo no está incluido!"
   ]
  },
  {
   "cell_type": "code",
   "execution_count": null,
   "metadata": {},
   "outputs": [],
   "source": [
    "cursos[-1] # Eligiendo el último elemento de la  lista"
   ]
  },
  {
   "cell_type": "code",
   "execution_count": null,
   "metadata": {},
   "outputs": [],
   "source": [
    "cursos[-2] # El penúltimo"
   ]
  },
  {
   "cell_type": "code",
   "execution_count": null,
   "metadata": {},
   "outputs": [],
   "source": [
    "print(cursos)\n",
    "print(cursos[1:-2]) # Eligiendo desde el elemento 2 hasta el penúltimo (útil cuando no sabemos el total de los elementos)"
   ]
  },
  {
   "cell_type": "code",
   "execution_count": null,
   "metadata": {},
   "outputs": [],
   "source": [
    "cursos[3:len(cursos)] # Rebanando con el length de la lista"
   ]
  },
  {
   "cell_type": "code",
   "execution_count": null,
   "metadata": {},
   "outputs": [],
   "source": [
    "nums = [0,1,2,3,4,5,6,7,8,9]\n",
    "nums[1:8:2] #Rebanando desde el elemento 1 al 8(no inclusivo) cada 2 elementos. "
   ]
  },
  {
   "cell_type": "code",
   "execution_count": null,
   "metadata": {},
   "outputs": [],
   "source": [
    "nums[::-1] ## Así invertimos una lista.  Si los elementos se quedan vacíos, asume todo el rango. "
   ]
  },
  {
   "cell_type": "markdown",
   "metadata": {},
   "source": [
    "Las listas pueden tener indexes fuera de rango. En este ejemplo, el indice 20 se comporta igual que len(lst) + 1.  \n",
    "\n",
    "No tener que preocuparnos por los indexes, puede ser conveniente!"
   ]
  },
  {
   "cell_type": "code",
   "execution_count": null,
   "metadata": {},
   "outputs": [],
   "source": [
    "print(nums[0:20]) \n",
    "print(nums[0:len(nums) + 1])\n",
    "print(nums[0:len(nums)])"
   ]
  },
  {
   "cell_type": "code",
   "execution_count": null,
   "metadata": {},
   "outputs": [],
   "source": [
    "len(nums)+ 1"
   ]
  },
  {
   "cell_type": "markdown",
   "metadata": {},
   "source": [
    "### Modificando una lista "
   ]
  },
  {
   "cell_type": "markdown",
   "metadata": {},
   "source": [
    "Las listas son objetos **mutables**, lo cual indica que sus valores se pueden modificar después de su creación (se pueden cambiar, agregar, eliminar elementos). Otras estructuras, como los strings y las tuplas, no se pueden cambiar."
   ]
  },
  {
   "cell_type": "markdown",
   "metadata": {},
   "source": [
    "Para modificar una lista, podemos hacer lo siguiente"
   ]
  },
  {
   "cell_type": "code",
   "execution_count": null,
   "metadata": {},
   "outputs": [],
   "source": [
    "cursos"
   ]
  },
  {
   "cell_type": "code",
   "execution_count": null,
   "metadata": {},
   "outputs": [],
   "source": [
    "cursos[3] = \"Sociologia\"\n",
    "cursos\n"
   ]
  },
  {
   "cell_type": "markdown",
   "metadata": {},
   "source": [
    "### Una propiedad curiosa de las listas (MEGA IMPORTANTE)"
   ]
  },
  {
   "cell_type": "markdown",
   "metadata": {},
   "source": [
    "Imaginen que tenemos una lista, y queremos hacer una copia de dicha lista:"
   ]
  },
  {
   "cell_type": "code",
   "execution_count": null,
   "metadata": {},
   "outputs": [],
   "source": [
    "lst_a = [1,2,3,4]\n",
    "lst_b = lst_a"
   ]
  },
  {
   "cell_type": "markdown",
   "metadata": {},
   "source": [
    "Ahora, modifiquemos la lst_a:"
   ]
  },
  {
   "cell_type": "code",
   "execution_count": null,
   "metadata": {},
   "outputs": [],
   "source": [
    "lst_a[2] = 5\n",
    "lst_a"
   ]
  },
  {
   "cell_type": "markdown",
   "metadata": {},
   "source": [
    "¿ Qué pasó con la otra lista? "
   ]
  },
  {
   "cell_type": "code",
   "execution_count": null,
   "metadata": {},
   "outputs": [],
   "source": [
    "lst_b"
   ]
  },
  {
   "cell_type": "markdown",
   "metadata": {},
   "source": [
    "También ha cambiado!!!"
   ]
  },
  {
   "cell_type": "markdown",
   "metadata": {},
   "source": [
    "### Por qué pasa esto? "
   ]
  },
  {
   "cell_type": "markdown",
   "metadata": {},
   "source": [
    "Cuando creamos una lista, como la lst_b, que hace referencia a otra lista, la lst_a, no estamos creando un objeto nuevo. Simplemente **hacemos referencia** al mismo objeto, pues los dos señalan el mismo espacio que dicho objeto ocupa en la memoria. Cualquier modificación que se haga, ya sea a lst_a o lst_b, modificará al mismo objeto. "
   ]
  },
  {
   "cell_type": "markdown",
   "metadata": {},
   "source": [
    "### ¿Cómo probamos cuándo hacemos referencia al mismo objeto?"
   ]
  },
  {
   "cell_type": "markdown",
   "metadata": {},
   "source": [
    "Aquí introducimos el comando `id`"
   ]
  },
  {
   "cell_type": "code",
   "execution_count": null,
   "metadata": {},
   "outputs": [],
   "source": [
    "print(id(lst_a))\n",
    "print(id(lst_b)) ## Tienen los mismos ids!"
   ]
  },
  {
   "cell_type": "markdown",
   "metadata": {},
   "source": [
    "El operador `is` nos ayuda a determinar si dos variables se refieren al mismo objeto:"
   ]
  },
  {
   "cell_type": "code",
   "execution_count": null,
   "metadata": {},
   "outputs": [],
   "source": [
    "lst_a is lst_b"
   ]
  },
  {
   "cell_type": "markdown",
   "metadata": {},
   "source": [
    "### Los nombres de variables son como referencias"
   ]
  },
  {
   "cell_type": "markdown",
   "metadata": {},
   "source": [
    "\n",
    "Cuando nombramos a una variable, la variable no es su nombre en sí, sino es una referencia a un lugar de la memoria. La `lst_a` no es [1,2,3,4] , sino hace referencia a dicho objeto. La `lst_b`, al haberla creado como `lst_b` = `lst_a`, también hace referencia al mismo objeto. \n",
    "\n",
    "Los nombres son como \"etiquetas\" o \"alias\" que se le dan a los objetos. En este caso, hicimos una copia falsa."
   ]
  },
  {
   "cell_type": "markdown",
   "metadata": {},
   "source": [
    "<img src=\"https://raw.githubusercontent.com/ccsuehara/python_para_las_ccss/edfdf1c75e54488bc17366c1daa1e00f0e241c8d/Clase%202/img/lsts.png\" width=\"800\">\n"
   ]
  },
  {
   "cell_type": "markdown",
   "metadata": {},
   "source": [
    "### Haciendo una copia que no referencie al mismo objeto:"
   ]
  },
  {
   "cell_type": "markdown",
   "metadata": {},
   "source": [
    "Si queremos hacer una copia independiente basada en una lista preexistente, solo tenemos que hacer:"
   ]
  },
  {
   "cell_type": "code",
   "execution_count": null,
   "metadata": {},
   "outputs": [],
   "source": [
    "lst_c  = lst_a[:]"
   ]
  },
  {
   "cell_type": "code",
   "execution_count": null,
   "metadata": {},
   "outputs": [],
   "source": [
    "id(lst_c)"
   ]
  },
  {
   "cell_type": "code",
   "execution_count": null,
   "metadata": {},
   "outputs": [],
   "source": [
    "id(lst_a)"
   ]
  },
  {
   "cell_type": "code",
   "execution_count": null,
   "metadata": {},
   "outputs": [],
   "source": [
    "lst_c is lst_a"
   ]
  },
  {
   "cell_type": "code",
   "execution_count": null,
   "metadata": {},
   "outputs": [],
   "source": [
    "lst_c == lst_a"
   ]
  },
  {
   "cell_type": "code",
   "execution_count": null,
   "metadata": {},
   "outputs": [],
   "source": [
    "lst_d = lst_a.copy() ## Otra forma de crear una copia "
   ]
  },
  {
   "cell_type": "markdown",
   "metadata": {},
   "source": [
    "### Métodos que modifican a las listas"
   ]
  },
  {
   "cell_type": "code",
   "execution_count": null,
   "metadata": {},
   "outputs": [],
   "source": [
    "cursos = [\"Historia\", \"Economia\", \"Antropologia\", \"RSP\", \"Derecho\"]\n"
   ]
  },
  {
   "cell_type": "markdown",
   "metadata": {},
   "source": [
    "#### - `append`"
   ]
  },
  {
   "cell_type": "code",
   "execution_count": null,
   "metadata": {},
   "outputs": [],
   "source": [
    "cursos.append(\"Sociologia\")\n",
    "cursos"
   ]
  },
  {
   "cell_type": "markdown",
   "metadata": {},
   "source": [
    "#### - `extend` \n",
    "(solo acepta un único argumento iterable, como otra lista!)"
   ]
  },
  {
   "cell_type": "code",
   "execution_count": null,
   "metadata": {},
   "outputs": [],
   "source": [
    "mas_cursos = ['Mate', 'Estadistica']\n",
    "cursos_copy = cursos[:]\n",
    "cursos_copy.extend(mas_cursos)\n",
    "cursos_copy"
   ]
  },
  {
   "cell_type": "code",
   "execution_count": null,
   "metadata": {},
   "outputs": [],
   "source": [
    "cursos_copy = cursos[:]\n",
    "cursos_copy.append(mas_cursos)\n",
    "cursos_copy"
   ]
  },
  {
   "cell_type": "markdown",
   "metadata": {},
   "source": [
    "#### - `insert`\n",
    "\n",
    "Este método toma 2 argumentos: la posición en la lista y el elemento a agregar\n"
   ]
  },
  {
   "cell_type": "code",
   "execution_count": null,
   "metadata": {},
   "outputs": [],
   "source": [
    "cursos = [\"Historia\", \"Economia\", \"Antropologia\", \"RSP\", \"Derecho\"]\n",
    "\n",
    "cursos.insert(2,\"Psicologia\")\n",
    "cursos"
   ]
  },
  {
   "cell_type": "markdown",
   "metadata": {},
   "source": [
    "#### - `pop`"
   ]
  },
  {
   "cell_type": "code",
   "execution_count": null,
   "metadata": {},
   "outputs": [],
   "source": [
    "cursos.pop()\n",
    "cursos"
   ]
  },
  {
   "cell_type": "code",
   "execution_count": null,
   "metadata": {},
   "outputs": [],
   "source": [
    "cursos.pop(0)\n",
    "cursos"
   ]
  },
  {
   "cell_type": "markdown",
   "metadata": {},
   "source": [
    "#### - `count`"
   ]
  },
  {
   "cell_type": "code",
   "execution_count": null,
   "metadata": {},
   "outputs": [],
   "source": [
    "num_lst = [1, 1, 2, 3, 4, 5, 6, 7, 8, 1, 9, 9]\n",
    "num_lst.count(1)"
   ]
  },
  {
   "cell_type": "code",
   "execution_count": null,
   "metadata": {},
   "outputs": [],
   "source": [
    "num_lst.count(0)"
   ]
  },
  {
   "cell_type": "code",
   "execution_count": null,
   "metadata": {},
   "outputs": [],
   "source": [
    "num_lst.count(9) > 1"
   ]
  },
  {
   "cell_type": "code",
   "execution_count": null,
   "metadata": {},
   "outputs": [],
   "source": [
    "4 in num_lst ## Otra forma de ver la pertenencia. "
   ]
  },
  {
   "cell_type": "code",
   "execution_count": null,
   "metadata": {},
   "outputs": [],
   "source": [
    "13 in num_lst"
   ]
  },
  {
   "cell_type": "markdown",
   "metadata": {},
   "source": [
    "#### - `reverse`"
   ]
  },
  {
   "cell_type": "code",
   "execution_count": null,
   "metadata": {},
   "outputs": [],
   "source": [
    "num_lst.reverse()\n",
    "num_lst"
   ]
  },
  {
   "cell_type": "markdown",
   "metadata": {},
   "source": [
    "####  - `sort`"
   ]
  },
  {
   "cell_type": "code",
   "execution_count": null,
   "metadata": {},
   "outputs": [],
   "source": [
    "num_lst.sort()\n",
    "num_lst"
   ]
  },
  {
   "cell_type": "markdown",
   "metadata": {},
   "source": [
    "### Métodos para listas numéricas"
   ]
  },
  {
   "cell_type": "code",
   "execution_count": null,
   "metadata": {},
   "outputs": [],
   "source": [
    "sum(num_lst)"
   ]
  },
  {
   "cell_type": "code",
   "execution_count": null,
   "metadata": {},
   "outputs": [],
   "source": [
    "min(num_lst)"
   ]
  },
  {
   "cell_type": "code",
   "execution_count": null,
   "metadata": {},
   "outputs": [],
   "source": [
    "max(num_lst)"
   ]
  },
  {
   "cell_type": "code",
   "execution_count": null,
   "metadata": {},
   "outputs": [],
   "source": [
    "len(num_lst)"
   ]
  },
  {
   "cell_type": "code",
   "execution_count": null,
   "metadata": {},
   "outputs": [],
   "source": [
    "sum(num_lst)/len(num_lst)"
   ]
  },
  {
   "cell_type": "code",
   "execution_count": null,
   "metadata": {},
   "outputs": [],
   "source": [
    "num_lst"
   ]
  },
  {
   "cell_type": "markdown",
   "metadata": {},
   "source": [
    "Se pueden hacer operaciones con los elementos (numéricos) de una lista"
   ]
  },
  {
   "cell_type": "code",
   "execution_count": null,
   "metadata": {},
   "outputs": [],
   "source": [
    "print(num_lst)\n",
    "\n",
    "print(num_lst[1] * num_lst[2] * num_lst[3])"
   ]
  },
  {
   "cell_type": "markdown",
   "metadata": {},
   "source": [
    "###  Listas de listas"
   ]
  },
  {
   "cell_type": "code",
   "execution_count": null,
   "metadata": {},
   "outputs": [],
   "source": [
    "mat = [[1, 2, 3], [4, 5, 6], [7, 8, 9]]"
   ]
  },
  {
   "cell_type": "code",
   "execution_count": null,
   "metadata": {},
   "outputs": [],
   "source": [
    "mat"
   ]
  },
  {
   "cell_type": "code",
   "execution_count": null,
   "metadata": {},
   "outputs": [],
   "source": [
    "mat[0][1]"
   ]
  },
  {
   "cell_type": "code",
   "execution_count": null,
   "metadata": {},
   "outputs": [],
   "source": [
    "mat[2][2]"
   ]
  },
  {
   "cell_type": "code",
   "execution_count": null,
   "metadata": {},
   "outputs": [],
   "source": [
    "lista_vacia = []\n",
    "lista_llena= [[1,2,3,4,5], [6,7,8,9,10], ['Economia', ['Psicologia', 'Antropologia'], 'RSP', 'Derecho']]"
   ]
  },
  {
   "cell_type": "code",
   "execution_count": null,
   "metadata": {},
   "outputs": [],
   "source": [
    "lista_llena[2][2]"
   ]
  },
  {
   "cell_type": "markdown",
   "metadata": {},
   "source": [
    "<a class=\"anchor\" id=\"listas\"></a>\n",
    "## 2. [Tuples](https://www.datacamp.com/tutorial/python-tuples-tutorial)"
   ]
  },
  {
   "cell_type": "markdown",
   "metadata": {},
   "source": [
    "- Como una lista, pero los elementos están ordenados y no se puedne modificar, agregar o remover\n",
    "- Admite valores duplicados"
   ]
  },
  {
   "cell_type": "markdown",
   "metadata": {},
   "source": [
    "¿Cómo hacemos un tuple? Usamos **paréntesis ()**"
   ]
  },
  {
   "cell_type": "code",
   "execution_count": null,
   "metadata": {},
   "outputs": [],
   "source": [
    "tuple1 = (1, 3, 3, 5, 10, \"alex\", True)\n",
    "tuple1"
   ]
  },
  {
   "cell_type": "code",
   "execution_count": null,
   "metadata": {},
   "outputs": [],
   "source": [
    "tuple1[3:6]"
   ]
  },
  {
   "cell_type": "code",
   "execution_count": null,
   "metadata": {},
   "outputs": [],
   "source": [
    "tuple1[0] = 15"
   ]
  },
  {
   "cell_type": "code",
   "execution_count": null,
   "metadata": {},
   "outputs": [],
   "source": [
    "colegio = \"guadalupe\""
   ]
  },
  {
   "cell_type": "code",
   "execution_count": null,
   "metadata": {},
   "outputs": [],
   "source": [
    "colegio[0] = \"G\"\n",
    "colegio"
   ]
  },
  {
   "cell_type": "markdown",
   "metadata": {},
   "source": [
    "Algunos métodos de los tuples"
   ]
  },
  {
   "cell_type": "markdown",
   "metadata": {},
   "source": [
    "| Method \t| Definition \t|\n",
    "|---\t|---\t|\n",
    "| count() | Returns the number of times <br> a specified value occurs in a tuple \t|\n",
    "| index() |\tSearches the tuple for a specified value <br> and returns the position of where it was found \t|\n"
   ]
  },
  {
   "cell_type": "code",
   "execution_count": null,
   "metadata": {},
   "outputs": [],
   "source": [
    "tuple1 = (1, 0, 3, 5, 10, 5, 5)"
   ]
  },
  {
   "cell_type": "code",
   "execution_count": null,
   "metadata": {},
   "outputs": [],
   "source": [
    "# count\n",
    "#print( tuple1 )\n",
    "tuple1.count(1)"
   ]
  },
  {
   "cell_type": "code",
   "execution_count": null,
   "metadata": {},
   "outputs": [],
   "source": [
    "tuple1.index(3)"
   ]
  },
  {
   "cell_type": "markdown",
   "metadata": {},
   "source": [
    "Algunas funciones de los tuples"
   ]
  },
  {
   "cell_type": "markdown",
   "metadata": {},
   "source": [
    "| Function \t| Definition \t|\n",
    "| --- \t| --- \t|\n",
    "| type(tuple) \t| It returns the class type of an object. \t|\n",
    "| max(tuple) \t| It returns an item from the tuple with max value. \t|\n",
    "| min(tuple) \t| It returns an item from the tuple with min value. \t|\n",
    "| len(tuple) \t| It gives the total length of the tuple. \t|\n",
    "| tuple( list ) \t| Converts a list into a tuple. \t|"
   ]
  },
  {
   "cell_type": "code",
   "execution_count": null,
   "metadata": {},
   "outputs": [],
   "source": [
    "len(tuple1)"
   ]
  },
  {
   "cell_type": "code",
   "execution_count": null,
   "metadata": {},
   "outputs": [],
   "source": [
    "tuple2 = ( 1, 3, 3, 5, 10, (5, 6, 7) )\n",
    "print(tuple2)"
   ]
  },
  {
   "cell_type": "code",
   "execution_count": null,
   "metadata": {},
   "outputs": [],
   "source": [
    "tuple2 = (\"alex\", 5, True)\n",
    "tuple2"
   ]
  },
  {
   "cell_type": "code",
   "execution_count": null,
   "metadata": {},
   "outputs": [],
   "source": [
    "len(tuple2[0])"
   ]
  },
  {
   "cell_type": "code",
   "execution_count": null,
   "metadata": {},
   "outputs": [],
   "source": [
    "tuple3 = ( 1, 2, 3, 4, 5, 10 )\n",
    "tuple3"
   ]
  },
  {
   "cell_type": "code",
   "execution_count": null,
   "metadata": {},
   "outputs": [],
   "source": [
    "print(len(tuple3))\n",
    "print(min(tuple3))"
   ]
  },
  {
   "cell_type": "markdown",
   "metadata": {},
   "source": [
    "<a class=\"anchor\" id=\"sets\"> </a>\n",
    "## 3. Sets (conjuntos)"
   ]
  },
  {
   "cell_type": "code",
   "execution_count": null,
   "metadata": {},
   "outputs": [],
   "source": [
    "numeros_unicos = {1, 2, 3, 4, 5, 5, 4, 3, 2, 1}\n",
    "vocales = set(\"aeiou\")\n",
    "\n",
    "# Presentación de conjuntos\n",
    "print(f\"Números únicos: {numeros_unicos}\")\n",
    "print(f\"Vocales: {vocales}\")\n",
    "\n",
    "# Salida:\n",
    "# Números únicos: 1, 2, 3, 4, 5\n",
    "# Vocales: a, e, i, o, u"
   ]
  },
  {
   "cell_type": "markdown",
   "metadata": {},
   "source": [
    "<a class=\"anchor\" id=\"Diccinario\"></a>\n",
    "## 3. [Diccionario](https://www.datacamp.com/tutorial/dictionary-python)"
   ]
  },
  {
   "cell_type": "markdown",
   "metadata": {},
   "source": [
    "- Similar a una lista, pero no es indexado por una secuencia de números, sino de `keys`"
   ]
  },
  {
   "cell_type": "markdown",
   "metadata": {},
   "source": [
    "- Similar a una lista, pero no es indexado por una secuencia de números, sino de `keys`"
   ]
  },
  {
   "cell_type": "markdown",
   "metadata": {},
   "source": [
    "| Method \t| Definition \t|\n",
    "| --- \t| --- \t|\n",
    "|clear()|\tRemoves all the elements from the dictionary|\n",
    "|copy() |\tReturns a copy of the dictionary|\n",
    "|fromkeys() |\tReturns a dictionary with the specified keys and value|\n",
    "|get() |\tReturns the value of the specified key|\n",
    "|items() |\tReturns a list containing a tuple for each key value pair|\n",
    "|keys() | Returns a list containing the dictionary's keys|\n",
    "|pop() | Removes the element with the specified key|\n",
    "|popitem() | Removes the last inserted key-value pair|\n",
    "|setdefault() | Returns the value of the specified key. <br> If the key does not exist: insert the key, with the specified value|\n",
    "|update() |\tUpdates the dictionary with the specified key-value pairs |\n",
    "|values() | Returns a list of all the values in the dictionary|"
   ]
  },
  {
   "cell_type": "code",
   "execution_count": null,
   "metadata": {},
   "outputs": [],
   "source": [
    "angie = { \"lastname\" : \"Quispe\", \"age\": 21, \"birth_place\": \"Chosica\", \"male\" : False}\n",
    "angie"
   ]
  },
  {
   "cell_type": "code",
   "execution_count": null,
   "metadata": {},
   "outputs": [],
   "source": [
    "alexander = { 'lastname': \"Quispe,\", 'age': 28, 'birth_place': \"SJL\", 'male' : True}\n",
    "maria = { 'lastname': \"rojas\", 'age': 27, 'birth_place': \"SMP\", 'male' : False}"
   ]
  },
  {
   "cell_type": "code",
   "execution_count": null,
   "metadata": {},
   "outputs": [],
   "source": [
    "lastanme = [\"Quispe\", \"Rojas\", \"Rodriguez\"]\n",
    "ages = [28, 29, 30]"
   ]
  },
  {
   "cell_type": "code",
   "execution_count": null,
   "metadata": {},
   "outputs": [],
   "source": [
    "dict_1 = { \"lastname\" : [\"Quispe\", \"Rojas\", \"Rodriguez\"],\n",
    "          \"ages\":[28, 29, 30], \"birth_place\": \"SJL\", 'male' : True}\n",
    "dict_1[\"lastname\"]"
   ]
  },
  {
   "cell_type": "code",
   "execution_count": null,
   "metadata": {},
   "outputs": [],
   "source": [
    "alexander[\"male\"]"
   ]
  },
  {
   "cell_type": "code",
   "execution_count": null,
   "metadata": {},
   "outputs": [],
   "source": [
    "# Clear\n",
    "angie.clear()\n",
    "angie"
   ]
  },
  {
   "cell_type": "code",
   "execution_count": null,
   "metadata": {},
   "outputs": [],
   "source": [
    "type(angie)"
   ]
  },
  {
   "cell_type": "code",
   "execution_count": null,
   "metadata": {},
   "outputs": [],
   "source": [
    "# dictionary containing the population of the 5 largest german cities\n",
    "population = {'Berlin': 3748148, 'Hamburg': 1822445, \n",
    "              'Munich': 1471508, 'Cologne': 1085664, \n",
    "              'Frankfurt': 753056 }\n",
    "\n",
    "type( population )"
   ]
  },
  {
   "cell_type": "code",
   "execution_count": null,
   "metadata": {},
   "outputs": [],
   "source": [
    "population[\"Frankfurt\"]"
   ]
  },
  {
   "cell_type": "code",
   "execution_count": null,
   "metadata": {},
   "outputs": [],
   "source": [
    "# Get information from key\n",
    "population.items()"
   ]
  },
  {
   "cell_type": "code",
   "execution_count": null,
   "metadata": {},
   "outputs": [],
   "source": [
    "population.keys()"
   ]
  },
  {
   "cell_type": "code",
   "execution_count": null,
   "metadata": {},
   "outputs": [],
   "source": [
    "population.values()"
   ]
  },
  {
   "cell_type": "code",
   "execution_count": null,
   "metadata": {},
   "outputs": [],
   "source": [
    "population.pop(\"Frankfurt\")"
   ]
  },
  {
   "cell_type": "code",
   "execution_count": null,
   "metadata": {},
   "outputs": [],
   "source": [
    "stadiums = { \"munich\":\"Alianz Arena\",\"dormundt\": \"SIP\", \"ulm\": \"18-60ULM\", \"shalke\": \"GAZPROM\"}"
   ]
  },
  {
   "cell_type": "code",
   "execution_count": null,
   "metadata": {},
   "outputs": [],
   "source": [
    "population.update( {\"stadiums\": stadiums} )\n",
    "type(population[\"stadiums\"])"
   ]
  },
  {
   "cell_type": "code",
   "execution_count": null,
   "metadata": {},
   "outputs": [],
   "source": [
    "population"
   ]
  },
  {
   "cell_type": "markdown",
   "metadata": {},
   "source": [
    "### Listas a diccionarios"
   ]
  },
  {
   "cell_type": "code",
   "execution_count": null,
   "metadata": {},
   "outputs": [],
   "source": [
    "# keys\n",
    "cities = ['Fray Martin','Santa Rosa de Puquio','Cuchicorral','Santiago de Punchauca',\n",
    "          'La Cruz (11 Amigos)','Cerro Cañon','Cabaña Suche','San Lorenzo',\n",
    "          'Jose Carlos Mariategui','Pascal','La Esperanza','Fundo Pancha Paula','Olfa',\n",
    "          'Rio Seco','Paraiso','El Rosario','Cerro Puquio','La Campana','Las Animas',\n",
    "          'Vetancio','Roma Alta','San Jose','San Pedro de Carabayllo','Huacoy',\n",
    "          'Fundo Pampa Libre','Ex Fundo Santa Ines','Reposo','Carmelito','Santa Elena'\n",
    "          'Don Luis','Santa Ines Parcela','Asociacion Santa Ines','Roma Baja',\n",
    "          'Residencial Santa Lucia','San Francisco','Santa Margarita - Molinos','Sipan Peru',\n",
    "          'Fundo Cuadros','Bello Horizonte','El Hueco','Ex Fundo Mariategui','Naranjito',\n",
    "          'Vista Hermosa','El Sabroso de Jose Carlos Mariategui','Granja Carabayllo',\n",
    "          'Agropecuario Valle el Chillon','Camino Real','Copacabana','El Trebol',\n",
    "          'Tablada la Virgen','San Fernando de Carabayllo','San Fernando de Copacabana',\n",
    "          'La Manzana','Chacra Grande','Torres de Copacabana','San Pedro de Carabayllo',\n",
    "          'San Lorenzo','Chaclacayo','Chorrillos','Cieneguilla','Lindero','Pichicato','San Isidro',\n",
    "          'San Vicente','Piedra Liza','Santa Rosa de Chontay (Chontay)','La Libertad','El Agustino',\n",
    "          'Independencia','Jesus Maria','La Molina','La Victoria','Lince','Las Palmeras','Chosica',\n",
    "          'Lurin','Los Almacigos','Rinconada del Puruhuay','Fundo Santa Genoveva','Los Maderos',\n",
    "          'Casco Viejo','Vista Alegre','Buena Vista Alta','Lomas Pucara','Fundo la Querencia',\n",
    "          'Magdalena del Mar','Pueblo Libre','Miraflores','Pachacamac','Puente Manchay','Tambo Inga',\n",
    "          'Pampa Flores','Manchay Alto Lote B','Invasion Cementerio','Manchay Bajo',\n",
    "          'Santa Rosa de Mal Paso','Cardal','Jatosisa','Tomina','Pucusana','Honda','Quipa',\n",
    "          'Los Pelicanos','Playa Puerto Bello','Ñaves','Granja Santa Elena','Alvatroz II',\n",
    "          'Poseidon - Lobo Varado','Playa Minka Mar','Playa Acantilado','Puente Piedra','Punta Hermosa','Capilla Lucumo','Cucuya','Pampapacta','Avicola San Cirilo de Loma Negra - 03','Avicola San Cirilo de Loma Negra - 02','Avicola San Cirilo de Loma Negra - 01','Pampa Mamay','Cerro Botija','Agricultores y Ganaderos','Pampa Malanche Avicola Puma','Punta Negra','Chancheria','Rimac','San Bartolo','Plantel 41','Granja 4','Granja 5','Granja 07','Granja 44','Granja 47','Santa Maria I','Las Torres Santa Fe','San Francisco de Borja','San Isidro','San Juan de Lurigancho','Ciudad de Dios','San Luis','Barrio Obrero Industrial','San Miguel','Santa Anita - los Ficus','Santa Maria del Mar','Don Bruno','Santa Rosa','Santiago de Surco','Surquillo','Villa el Salvador','Villa Maria del Triunfo', 'Pueblo libre']\n",
    "# values\n",
    "postal_code = [15001,15003,15004,15006,15018,15019,15046,15072,15079,15081,15082,15083,15088,15123,15004,15011,15012,15019,15022,15023,15026,15476,15479,15483,15487,15491,15494,15498,15047,15049,15063,15082,15083,15121,15122,15313,15316,15318,15319,15320,15321,15324,15320,15320,15320,15320,15320,15320,15121,15320,15320,15121,15320,15320,15121,15121,15122,15122,15121,15121,15121,15320,15320,15320,15320,15320,15320,15121,15121,15121,15320,15121,15319,15121,15121,15121,15320,15320,15121,15121,15121,15121,15320,15320,15320,15122,15122,15122,15122,15122,15122,15122,15122,15121,15121,15122,15122,15121,15121,15122,15122,15121,15122,15122,15122,15472,15476,15054,15056,15057,15058,15063,15064,15066,15067,15593,15594,15593,15593,15593,15593,15593,15593,15593,15311,15312,15313,15314,15316,15324,15326,15327,15328,15332,15003,15004,15006,15007,15008,15009,15011,15018,15022,15311,15328,15331,15332,15333,15046, 15001]"
   ]
  },
  {
   "cell_type": "code",
   "execution_count": null,
   "metadata": {},
   "outputs": [],
   "source": [
    "len(cities)"
   ]
  },
  {
   "cell_type": "code",
   "execution_count": null,
   "metadata": {},
   "outputs": [],
   "source": [
    "len(postal_code)"
   ]
  },
  {
   "cell_type": "code",
   "execution_count": null,
   "metadata": {},
   "outputs": [],
   "source": [
    "list( zip( cities , postal_code ) )"
   ]
  },
  {
   "cell_type": "code",
   "execution_count": null,
   "metadata": {},
   "outputs": [],
   "source": [
    "dict( zip( cities , postal_code ) )"
   ]
  },
  {
   "cell_type": "markdown",
   "metadata": {},
   "source": [
    "De manera comparativa, la siguiente tabla puede ayudar:"
   ]
  },
  {
   "cell_type": "markdown",
   "metadata": {},
   "source": [
    "| Parameters | List | Tuple | Set | Dictionary |\n",
    "| --- | --- | --- | --- | --- |\n",
    "| Basics\t| A list is similar to an array in other languages. | Tuples are collections of Python objects separated by commas.\t| Sets are mutable, iterable collections of unique data types.\t| A dictionary in Python is an unordered collection used for storing key: value pairs.| \n",
    "| Homogeneity\t| A list is a non-homogeneous data structure that stores elements in columns and rows.\t| A tuple is a non-homogeneous data structure that stores elements in columns and rows.\t| A set is a non-homogeneous data structure that stores elements in a single row.\t| A dictionary is a non-homogeneous data structure that stores key-value pairs.| \n",
    "| Representation\t| A List is represented by [ ]| \tA Tuple is represented by ( )\t| A Set is represented by { }\t| A Dictionary is represented by { }| \n",
    "| Duplicate elements\t| It permits duplicate elements.\t| It permits duplicate elements.\t| It does not permit duplicate elements.\t| It does not permit duplicate keys.| \n",
    "| Nested Among All\t| It can be nested in a List.\t|  It can be nested in a Tuple.\t|  It can be nested in a Set.\t| It can be nested in a Dictionary. | \n",
    "| Example\t| [1, 2, 3, 4, 5]\t|  (10, 20, 30, 40, 50)\t|  {100, 200, 300, 400, 500}\t|  {1: 'one', 2: 'two', 3: 'three'} | \n",
    "| Function for Creation\t| A list can be created using the list() function.\t|  A tuple can be created using the tuple() function.\t|  A set can be created using the set() function.\t| A dictionary can be created using the dict() function. | \n",
    "| Mutation\t| It is mutable, allowing modifications. | It is immutable, not allowing modifications. | It is mutable, allowing modifications. | It is mutable, but the keys cannot be duplicated. | \n",
    "| Order\t| It maintains order. | \tIt maintains order. | \tIt does not maintain order. | \tIt maintains order. | \n",
    "| Empty Elements | An empty list can be created using: l=[] |  An empty tuple can be created using: t=() | An empty set can be created using: s=set() | An empty dictionary can be created using: d={} | "
   ]
  },
  {
   "cell_type": "markdown",
   "metadata": {},
   "source": [
    "# Ejemplo Práctico: Análisis Básico de Datos"
   ]
  },
  {
   "cell_type": "code",
   "execution_count": null,
   "metadata": {},
   "outputs": [],
   "source": [
    "# Datos de ventas mensuales\n",
    "ventas = [100, 150, 200, 80, 120, 190, 210, 170, 160, 200, 230, 180]\n",
    "print(ventas)\n",
    "\n",
    "# Cálculos básicos\n",
    "# Calcular total de ventas, promedio de ventas, máxima venta, mínima venta\n",
    "\n",
    "# Análisis de tendencia\n",
    "# Calcular si tendencia es positiva o negativa\n",
    "\n",
    "# Categorización de meses\n",
    "# Calcular el número de meses buenos (mayor que el promedio)\n",
    "\n",
    "# Resumen en diccionario\n",
    "# Incluir todos los cálculos en un diccionario"
   ]
  }
 ],
 "metadata": {
  "kernelspec": {
   "display_name": "base",
   "language": "python",
   "name": "python3"
  },
  "language_info": {
   "codemirror_mode": {
    "name": "ipython",
    "version": 3
   },
   "file_extension": ".py",
   "mimetype": "text/x-python",
   "name": "python",
   "nbconvert_exporter": "python",
   "pygments_lexer": "ipython3",
   "version": "3.11.7"
  }
 },
 "nbformat": 4,
 "nbformat_minor": 4
}
