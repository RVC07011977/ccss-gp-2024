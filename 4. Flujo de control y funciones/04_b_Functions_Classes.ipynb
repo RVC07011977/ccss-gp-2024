{
 "cells": [
  {
   "cell_type": "code",
   "execution_count": null,
   "metadata": {},
   "outputs": [],
   "source": [
    "import pandas as pd\n",
    "import numpy as np"
   ]
  },
  {
   "cell_type": "markdown",
   "metadata": {},
   "source": [
    "# 5. Functions and Class\n",
    "In this class we will cover everything related to creating functions and clases in Python."
   ]
  },
  {
   "cell_type": "markdown",
   "metadata": {},
   "source": [
    "- <a href='##5.1.'>5.1. Functions</a>\n",
    "     - <a href='##5.1.1.'>5.1.1. The Importance of Python Functions </a> \n",
    "     - <a href='##5.1.2.'>5.1.2. Basic structure of a function </a> \n",
    "     - <a href='##5.1.3.'>5.1.3. Function without `return` function </a> \n",
    "     - <a href='##5.1.5.'>5.1.5. Multiple objects for return </a> \n",
    "     - <a href='##5.1.5.'>5.1.5. If condition with return </a>\n",
    "     - <a href='##5.1.6.'>5.1.6. Default values to parameters </a> \n",
    "     - <a href='##5.1.7.'>5.1.7. Specify the type of a parameter and the type of the return type of a function </a> \n",
    "     - <a href='##5.1.8.'>5.1.8. Local variables VS Global variables </a> \n",
    "     - <a href='##5.1.9.'>5.1.9. Args </a> \n",
    "     - <a href='##5.1.10.'>5.1.10. Kwargs </a> \n",
    "- <a href='##5.2.'>5.2. Class </a> \n",
    "     - <a href='##5.2.1.'>5.2.1. The Importance of Python Classes </a> \n",
    "     - <a href='##5.2.2.'> 5.2.2. Defining a class </a> \n",
    "     - <a href='##5.2.3.'> 5.2.3. Attributes </a> \n",
    "     - <a href='##5.2.5.'> 5.2.5. Method </a>\n",
    "     - <a href='##5.2.6.'> 5.2.6. \\_\\_init\\_\\_() </a>\n",
    "     - <a href='##5.2.7.'> 5.2.7. Self </a>\n",
    "- <a href='##5.3.'>5.3. References </a>  "
   ]
  },
  {
   "cell_type": "markdown",
   "metadata": {},
   "source": [
    "##  <a id='#5.1.'>5.1. Functions</a>"
   ]
  },
  {
   "cell_type": "markdown",
   "metadata": {},
   "source": [
    "### <a id = '#5.1.1.'> 5.1.1.The Importance of Python Functions </a> "
   ]
  },
  {
   "cell_type": "markdown",
   "metadata": {},
   "source": [
    "- Abstraction and Reusability: Replicate the code you will use over and over again.\n",
    "- Modularity: Functions allow complex processes to be broken up into smaller steps.\n",
    "- Namespace Separation: It allows you to use variables  and used within a Python function even if they have the same name as variables defined in other functions or in the main program. "
   ]
  },
  {
   "cell_type": "markdown",
   "metadata": {},
   "source": [
    "### <a id='#5.1.2.'> 5.1.2. Basic structure of a function </a> \n",
    "A function requires **parameters**, **code** to execute and the **return** function. The **def** keyword introduces a new Python function definition.\n",
    "\n",
    "This is the basic structure:\n",
    "<br><br>\n",
    "\n",
    "<font size=\"4\">\n",
    "def name_function<font color='green'>( parameter1, parameter2 )</font>: <br> <br>\n",
    "&nbsp;&nbsp;&nbsp;&nbsp;Code<br><br>\n",
    "&nbsp;&nbsp;&nbsp;&nbsp;<font color='green'>return</font> final_output<br>\n",
    "</font>"
   ]
  },
  {
   "cell_type": "code",
   "execution_count": 2,
   "metadata": {},
   "outputs": [],
   "source": [
    "import numpy as np"
   ]
  },
  {
   "cell_type": "code",
   "execution_count": 3,
   "metadata": {},
   "outputs": [],
   "source": [
    "def multiplication(x, y, z):\n",
    "    '''Esta funcion sirve para multiplicar tres variables'''\n",
    "    result = x*y*z\n",
    "    return result"
   ]
  },
  {
   "cell_type": "code",
   "execution_count": 4,
   "metadata": {},
   "outputs": [
    {
     "data": {
      "text/plain": [
       "96"
      ]
     },
     "execution_count": 4,
     "metadata": {},
     "output_type": "execute_result"
    }
   ],
   "source": [
    "multiplication(8, 6, 2)"
   ]
  },
  {
   "cell_type": "code",
   "execution_count": 5,
   "metadata": {},
   "outputs": [],
   "source": [
    "def info_students(x, y, z):\n",
    "    \n",
    "    if z == 1:\n",
    "        name = f\"Her name is {x}\"\n",
    "        lastname = \"Her lastname is {}\".format(y)\n",
    "        \n",
    "    else:\n",
    "        name = \"His name is {}\".format(x)\n",
    "        lastname = \"His lastname is {}\".format(y)\n",
    "    \n",
    "    return print(name,\",\",  lastname)"
   ]
  },
  {
   "cell_type": "code",
   "execution_count": 6,
   "metadata": {},
   "outputs": [
    {
     "name": "stdout",
     "output_type": "stream",
     "text": [
      "His name is Guillermo , His lastname is Coronado\n"
     ]
    }
   ],
   "source": [
    "info_students(\"Guillermo\", \"Coronado\", False)"
   ]
  },
  {
   "cell_type": "code",
   "execution_count": 7,
   "metadata": {},
   "outputs": [],
   "source": [
    "def calculator(x, y):\n",
    "    \n",
    "    if x < y:\n",
    "        print(\"division out range\")\n",
    "        result = np.nan\n",
    "    else: \n",
    "        result  = x/y\n",
    "    \n",
    "    return result"
   ]
  },
  {
   "cell_type": "code",
   "execution_count": 8,
   "metadata": {},
   "outputs": [
    {
     "name": "stdout",
     "output_type": "stream",
     "text": [
      "division out range\n"
     ]
    },
    {
     "data": {
      "text/plain": [
       "nan"
      ]
     },
     "execution_count": 8,
     "metadata": {},
     "output_type": "execute_result"
    }
   ],
   "source": [
    "calculator(2, 3)"
   ]
  },
  {
   "cell_type": "code",
   "execution_count": 9,
   "metadata": {},
   "outputs": [],
   "source": [
    "def calculator( x, y, z ):\n",
    "    \n",
    "    result = x * y * z\n",
    "    \n",
    "    return result"
   ]
  },
  {
   "cell_type": "code",
   "execution_count": 10,
   "metadata": {},
   "outputs": [
    {
     "data": {
      "text/plain": [
       "60040"
      ]
     },
     "execution_count": 10,
     "metadata": {},
     "output_type": "execute_result"
    }
   ],
   "source": [
    "calculator( 158, 38, 10 )"
   ]
  },
  {
   "cell_type": "code",
   "execution_count": 11,
   "metadata": {},
   "outputs": [
    {
     "data": {
      "text/plain": [
       "0"
      ]
     },
     "execution_count": 11,
     "metadata": {},
     "output_type": "execute_result"
    }
   ],
   "source": [
    "calculator( 4, 7, 0)"
   ]
  },
  {
   "cell_type": "markdown",
   "metadata": {},
   "source": [
    "### <a id='#5.1.3.'>5.1.3. Function without `return` function </a> \n",
    "When we define a function without the `return` function, the generated function does not return any output."
   ]
  },
  {
   "cell_type": "code",
   "execution_count": 14,
   "metadata": {},
   "outputs": [],
   "source": [
    "x2 = 5\n",
    "y2 = 10"
   ]
  },
  {
   "cell_type": "code",
   "execution_count": 15,
   "metadata": {},
   "outputs": [],
   "source": [
    "def calculator_square( x, y ):\n",
    "    \n",
    "    x2 = x * x\n",
    "    y2 = y * y\n",
    "    \n",
    "    result = x2 * y2   \n",
    "    return result"
   ]
  },
  {
   "cell_type": "code",
   "execution_count": 16,
   "metadata": {},
   "outputs": [
    {
     "data": {
      "text/plain": [
       "2500"
      ]
     },
     "execution_count": 16,
     "metadata": {},
     "output_type": "execute_result"
    }
   ],
   "source": [
    "calculator_square( x2, y2 )"
   ]
  },
  {
   "cell_type": "code",
   "execution_count": 17,
   "metadata": {},
   "outputs": [],
   "source": [
    "def info_students(x, y, z):\n",
    "    \n",
    "    if z == 1:\n",
    "        name = \"Her name is {}\".format(x)\n",
    "        lastname = \"Her lastname is {}\".format(y)\n",
    "        \n",
    "    else:\n",
    "        name = \"His name is {}\".format(x)\n",
    "        lastname = \"His lastname is {}\".format(y)\n",
    "    \n",
    "    return print(name,\",\",  lastname)\n",
    "    #return lastname"
   ]
  },
  {
   "cell_type": "code",
   "execution_count": 18,
   "metadata": {},
   "outputs": [],
   "source": [
    "def info_students(x, y, z, s, e):\n",
    "    \n",
    "    if z == 1:\n",
    "        name = f\"Her name is {x}\"\n",
    "        lastname = \"Her lastname is {}\".format(y)\n",
    "        school = \"Her school is {}\".format(s)\n",
    "        \n",
    "        if e >= 18: \n",
    "            age = \"She is an adult\"\n",
    "    \n",
    "        else:\n",
    "            age = \"She is a kid\"\n",
    "        \n",
    "    else:\n",
    "        name = \"His name is {}\".format(x)\n",
    "        lastname = \"His lastname is {}\".format(y)\n",
    "        school = \"His school is {}\".format(s)\n",
    "        \n",
    "        if e >= 18: \n",
    "            age = \"He is an adult\"\n",
    "    \n",
    "        else:\n",
    "            age = \"He is a kid\"\n",
    "\n",
    "    #return print(name,\",\",  lastname)\n",
    "    return name, lastname, school, age"
   ]
  },
  {
   "cell_type": "code",
   "execution_count": 19,
   "metadata": {},
   "outputs": [
    {
     "data": {
      "text/plain": [
       "('Her name is Gabriela',\n",
       " 'Her lastname is Narvaez',\n",
       " 'Her school is CIFO',\n",
       " 'She is a kid')"
      ]
     },
     "execution_count": 19,
     "metadata": {},
     "output_type": "execute_result"
    }
   ],
   "source": [
    "info_students(\"Gabriela\", \"Narvaez\", True , \"CIFO\", 17)"
   ]
  },
  {
   "cell_type": "markdown",
   "metadata": {},
   "source": [
    "### <a id='#5.1.5.'>5.1.5. Multiple objects for return </a> \n",
    "The output of a function can have several objects. These objects are stored in a tuple by default."
   ]
  },
  {
   "cell_type": "code",
   "execution_count": 20,
   "metadata": {},
   "outputs": [],
   "source": [
    "def calculator_square( x, y ):\n",
    "    \n",
    "    x2 = x * x\n",
    "    y2 = y * y\n",
    "    \n",
    "    result = x2 + y2   \n",
    "    \n",
    "    return result, x2, y2"
   ]
  },
  {
   "cell_type": "code",
   "execution_count": 21,
   "metadata": {},
   "outputs": [
    {
     "data": {
      "text/plain": [
       "(25, 9, 16)"
      ]
     },
     "execution_count": 21,
     "metadata": {},
     "output_type": "execute_result"
    }
   ],
   "source": [
    "calculator_square(3, 4)"
   ]
  },
  {
   "cell_type": "markdown",
   "metadata": {},
   "source": [
    "We can name the outputs in one line."
   ]
  },
  {
   "cell_type": "code",
   "execution_count": 22,
   "metadata": {},
   "outputs": [],
   "source": [
    "res, X, Y = calculator_square( 8, 9 )"
   ]
  },
  {
   "cell_type": "markdown",
   "metadata": {},
   "source": [
    "### <a id='#5.1.5.'>5.1.5. If condition with return </a>"
   ]
  },
  {
   "cell_type": "code",
   "execution_count": 23,
   "metadata": {},
   "outputs": [],
   "source": [
    "def calculator_square( x, y ):\n",
    "    \n",
    "    x2 = x * x\n",
    "    y2 = y * y\n",
    "    \n",
    "    result = x2 * y2   \n",
    "    \n",
    "    if ( 200 >= result ):\n",
    "        return result, x2, y2\n",
    "    \n",
    "    elif ( 500 >= result > 200 ):\n",
    "        print( \"Large number. Get only the result variable\")\n",
    "        return result\n",
    "    \n",
    "    else:\n",
    "        print( \"Too large number. Do not return variables!\")"
   ]
  },
  {
   "cell_type": "code",
   "execution_count": 24,
   "metadata": {},
   "outputs": [
    {
     "name": "stdout",
     "output_type": "stream",
     "text": [
      "Large number. Get only the result variable\n"
     ]
    },
    {
     "data": {
      "text/plain": [
       "400"
      ]
     },
     "execution_count": 24,
     "metadata": {},
     "output_type": "execute_result"
    }
   ],
   "source": [
    "calculator_square( 2, 10 )"
   ]
  },
  {
   "cell_type": "markdown",
   "metadata": {},
   "source": [
    "### <a id='#5.1.6.'>5.1.6. Default values to parameters </a> \n",
    "We can define default values to parameters."
   ]
  },
  {
   "cell_type": "code",
   "execution_count": 25,
   "metadata": {},
   "outputs": [],
   "source": [
    "def calculator_base_20(x, y=20):\n",
    "    result = x*y\n",
    "    return result"
   ]
  },
  {
   "cell_type": "code",
   "execution_count": 26,
   "metadata": {},
   "outputs": [
    {
     "data": {
      "text/plain": [
       "25"
      ]
     },
     "execution_count": 26,
     "metadata": {},
     "output_type": "execute_result"
    }
   ],
   "source": [
    "calculator_base_20(x=5,y=5)"
   ]
  },
  {
   "cell_type": "code",
   "execution_count": 27,
   "metadata": {},
   "outputs": [],
   "source": [
    "def info_students(x, y, s, e, sex=True):\n",
    "    \n",
    "    if sex == 1:\n",
    "        name = \"Her name is {}\".format(x)\n",
    "        lastname = \"Her lastname is {}\".format(y)\n",
    "        school = \"Her school is {}\".format(s)\n",
    "        \n",
    "        if e >= 18: \n",
    "            age = \"She is an adult\"\n",
    "    \n",
    "        else:\n",
    "            age = \"She is a kid\"\n",
    "        \n",
    "    else:\n",
    "        name = \"His name is {}\".format(x)\n",
    "        lastname = \"His lastname is {}\".format(y)\n",
    "        school = \"His school is {}\".format(s)\n",
    "        \n",
    "        if e >= 18: \n",
    "            age = \"He is an adult\"\n",
    "    \n",
    "        else:\n",
    "            age = \"He is a kid\"\n",
    "\n",
    "    #return print(name,\",\",  lastname)\n",
    "    return name, lastname, school, age"
   ]
  },
  {
   "cell_type": "code",
   "execution_count": 28,
   "metadata": {},
   "outputs": [
    {
     "data": {
      "text/plain": [
       "('Her name is Cristhian',\n",
       " 'Her lastname is Alfaro',\n",
       " 'Her school is CIFO',\n",
       " 'She is a kid')"
      ]
     },
     "execution_count": 28,
     "metadata": {},
     "output_type": "execute_result"
    }
   ],
   "source": [
    "info_students(\"Cristhian\", \"Alfaro\",\"CIFO\", 17)"
   ]
  },
  {
   "cell_type": "markdown",
   "metadata": {},
   "source": [
    "### <a id='#5.1.7.'>5.1.7. Specify the type of a parameter and the type of the return type of a function </a> \n",
    "\n",
    "It is important to note that Python won't raise a TypeError if you pass a float into x, the reason for this is one of the main points in Python's design philosophy: \"We're all consenting adults here\", which means you are expected to be aware of what you can pass to a function and what you can't. If you really want to write code that throws TypeErrors you can use the isinstance function to check that the passed argument is of the proper type or a subclass of it like this:"
   ]
  },
  {
   "cell_type": "code",
   "execution_count": 32,
   "metadata": {},
   "outputs": [],
   "source": [
    "def calculator_base_30( x:int, y:float ) -> float:\n",
    "    result = x**y\n",
    "    return result"
   ]
  },
  {
   "cell_type": "code",
   "execution_count": 35,
   "metadata": {},
   "outputs": [
    {
     "data": {
      "text/plain": [
       "625"
      ]
     },
     "execution_count": 35,
     "metadata": {},
     "output_type": "execute_result"
    }
   ],
   "source": [
    "calculator_base_30( x=5, y=4 )"
   ]
  },
  {
   "cell_type": "code",
   "execution_count": 38,
   "metadata": {},
   "outputs": [],
   "source": [
    "def calculator_base_5( x : int, y : float , z:list, ) -> float:\n",
    "    \n",
    "    if not isinstance( x , int ):\n",
    "        raise TypeError( \"X variable is not int type.\")\n",
    "        \n",
    "    if not isinstance( y, float ):\n",
    "        raise TypeError( \"Y variable is not float type.\")\n",
    "    \n",
    "    if not isinstance( z, list ):\n",
    "        raise TypeError( \"Z variable is not list type.\")\n",
    "\n",
    "    result = x * y\n",
    "    \n",
    "    \n",
    "    return result"
   ]
  },
  {
   "cell_type": "code",
   "execution_count": 39,
   "metadata": {},
   "outputs": [
    {
     "data": {
      "text/plain": [
       "17.4"
      ]
     },
     "execution_count": 39,
     "metadata": {},
     "output_type": "execute_result"
    }
   ],
   "source": [
    "calculator_base_5( 3, 5.8, [1,2])"
   ]
  },
  {
   "cell_type": "markdown",
   "metadata": {},
   "source": [
    "### <a id='#5.1.8.'>5.1.8. Local variables VS Global variables </a> \n",
    "\n",
    "|Variables|Definition|\n",
    "|---|---|\n",
    "|Global Variables| Variables declared outside a function.|\n",
    "|Local Variables | Variables declared inside a function.|\n",
    "\n",
    "The parameters and the variables created inside a function are local variables. They take values when the function is executed; however, they do not exist outside the function since they belong to a different namespace. A namespace is a system that has a unique name for every object in Python. When a Python function is called, a new namespace is created for that function, one that is distinct from all other namespaces that already exist. That is the reason we can use various functions with parameters and variables with the same name. Additionally, it explains why the variables generated inside a function do not exist outside the defined function namespace."
   ]
  },
  {
   "cell_type": "markdown",
   "metadata": {},
   "source": [
    "#### Example"
   ]
  },
  {
   "cell_type": "code",
   "execution_count": 40,
   "metadata": {},
   "outputs": [],
   "source": [
    "def lower_case( string1  ):\n",
    "    \n",
    "    str_result = string1.lower()\n",
    "    \n",
    "    return str_result"
   ]
  },
  {
   "cell_type": "code",
   "execution_count": 41,
   "metadata": {},
   "outputs": [
    {
     "data": {
      "text/plain": [
       "'adriana'"
      ]
     },
     "execution_count": 41,
     "metadata": {},
     "output_type": "execute_result"
    }
   ],
   "source": [
    "lower_case( \"ADRIANA\")"
   ]
  },
  {
   "cell_type": "markdown",
   "metadata": {},
   "source": [
    "Now, we try to call the variable `str_result`."
   ]
  },
  {
   "cell_type": "code",
   "execution_count": 42,
   "metadata": {},
   "outputs": [
    {
     "ename": "NameError",
     "evalue": "name 'str_result' is not defined",
     "output_type": "error",
     "traceback": [
      "\u001b[0;31m---------------------------------------------------------------------------\u001b[0m",
      "\u001b[0;31mNameError\u001b[0m                                 Traceback (most recent call last)",
      "Cell \u001b[0;32mIn[42], line 1\u001b[0m\n\u001b[0;32m----> 1\u001b[0m \u001b[43mstr_result\u001b[49m\n",
      "\u001b[0;31mNameError\u001b[0m: name 'str_result' is not defined"
     ]
    }
   ],
   "source": [
    "str_result"
   ]
  },
  {
   "cell_type": "markdown",
   "metadata": {},
   "source": [
    "We can see that `str_result` is not defined. It does not exist in the main space. It was defined in the namespace of **lower_case**. In concluion, `str_result` is a local variable. <br>\n",
    "`result2` is a global variable."
   ]
  },
  {
   "cell_type": "markdown",
   "metadata": {},
   "source": [
    "### <a id='#5.2.'>5.2. Class </a> \n",
    "\n",
    "A class is a user-defined blueprint or prototype from which objects are created. Classes provide a means of bundling data and functionality together. Creating a new class creates a new type of object, allowing new instances of that type to be made."
   ]
  },
  {
   "cell_type": "markdown",
   "metadata": {},
   "source": [
    "### <a id='#5.2.1.'>5.2.1. The Importance of Python Classes </a> \n",
    "\n",
    "Classes are a way to organize your code into generic, reusable peices. At their best they are generic blueprints for things that will be used over and over again with little modification. The original concept was inspired by independent biological systems or organism unique from other organisms by the set or collection of features (attributes) and abilities (methods).\n",
    "\n",
    "Functions are great to use when data is central to the work being done. Classes are great when you need to represent a collection of attributes and methods that will be used over and over again in other places.\n",
    "\n",
    "Generally if you find your self writing functions inside of functions you should consider writing a class instead. If you only have one function in a class then stick with just writing a function.\n",
    "\n",
    "\n",
    "\n",
    "- Classes provide an easy way of keeping the data members and methods together in one place which helps in keeping the program more organized.\n",
    "- Using classes also provides another functionality of this object-oriented programming paradigm, that is, inheritance.\n",
    "- Classes also help in overriding any standard operator.\n",
    "- Using classes provides the ability to reuse the code which makes the program more efficient.\n",
    "- Grouping related functions and keeping them in one place (inside a class) provides a clean structure to the code which increases the readability of the program."
   ]
  },
  {
   "cell_type": "markdown",
   "metadata": {},
   "source": [
    "###  <a id='#5.2.2.'> 5.2.2. Defining a class </a> \n",
    "it is considered to be a good practice to include a brief description about the class to increase the readability and understandability of the code."
   ]
  },
  {
   "cell_type": "markdown",
   "metadata": {},
   "source": [
    "<font size=\"4\">\n",
    "<font color='green'>class</font> class_name:<br> <br>\n",
    "&nbsp;&nbsp;&nbsp;&nbsp;    \"\"\"Description\"\"\" <br><br>\n",
    "&nbsp;&nbsp;&nbsp;&nbsp;<font color='red'>def __init__</font><font color  = 'blue'>( <font color='red'>self</font>, parameter1, parameter2 )</font>:<br><br>\n",
    "</font>"
   ]
  },
  {
   "cell_type": "markdown",
   "metadata": {},
   "source": [
    "### <a id='#5.2.3.'> 5.2.3. Attributes </a> \n",
    "A value associated with an object which is referenced by name using dotted expressions. For example, `np.size`."
   ]
  },
  {
   "cell_type": "code",
   "execution_count": 43,
   "metadata": {},
   "outputs": [
    {
     "data": {
      "text/plain": [
       "array([ 8, 10, 12, 14, 16, 18, 20, 22, 24])"
      ]
     },
     "execution_count": 43,
     "metadata": {},
     "output_type": "execute_result"
    }
   ],
   "source": [
    "import numpy as np \n",
    "\n",
    "A = np.arange( 8, 25 , 2)\n",
    "A"
   ]
  },
  {
   "cell_type": "code",
   "execution_count": 44,
   "metadata": {},
   "outputs": [
    {
     "data": {
      "text/plain": [
       "1"
      ]
     },
     "execution_count": 44,
     "metadata": {},
     "output_type": "execute_result"
    }
   ],
   "source": [
    "A.ndim"
   ]
  },
  {
   "cell_type": "code",
   "execution_count": 45,
   "metadata": {},
   "outputs": [
    {
     "data": {
      "text/plain": [
       "(9,)"
      ]
     },
     "execution_count": 45,
     "metadata": {},
     "output_type": "execute_result"
    }
   ],
   "source": [
    "A.shape"
   ]
  },
  {
   "cell_type": "code",
   "execution_count": 46,
   "metadata": {},
   "outputs": [
    {
     "data": {
      "text/plain": [
       "dtype('int64')"
      ]
     },
     "execution_count": 46,
     "metadata": {},
     "output_type": "execute_result"
    }
   ],
   "source": [
    "A.dtype"
   ]
  },
  {
   "cell_type": "markdown",
   "metadata": {},
   "source": [
    "### <a id='#5.2.5.'> 5.2.5. Method </a>\n",
    "A function which is defined inside a class body. If called as an attribute of an instance of that class, the method will get the instance object as its first argument (which is usually called self). See function and nested scope."
   ]
  },
  {
   "cell_type": "code",
   "execution_count": 47,
   "metadata": {},
   "outputs": [
    {
     "data": {
      "text/plain": [
       "numpy.ndarray"
      ]
     },
     "execution_count": 47,
     "metadata": {},
     "output_type": "execute_result"
    }
   ],
   "source": [
    "A = np.arange( 8, 25 )\n",
    "type(A)"
   ]
  },
  {
   "cell_type": "code",
   "execution_count": 48,
   "metadata": {},
   "outputs": [
    {
     "data": {
      "text/plain": [
       "array([ 8,  9, 10, 11, 12, 13, 14, 15, 16, 17, 18, 19, 20, 21, 22, 23, 24])"
      ]
     },
     "execution_count": 48,
     "metadata": {},
     "output_type": "execute_result"
    }
   ],
   "source": [
    "A"
   ]
  },
  {
   "cell_type": "code",
   "execution_count": 67,
   "metadata": {},
   "outputs": [
    {
     "data": {
      "text/plain": [
       "(17,)"
      ]
     },
     "execution_count": 67,
     "metadata": {},
     "output_type": "execute_result"
    }
   ],
   "source": [
    "A.shape"
   ]
  },
  {
   "cell_type": "code",
   "execution_count": 49,
   "metadata": {},
   "outputs": [
    {
     "data": {
      "text/plain": [
       "24"
      ]
     },
     "execution_count": 49,
     "metadata": {},
     "output_type": "execute_result"
    }
   ],
   "source": [
    "A.max()"
   ]
  },
  {
   "cell_type": "code",
   "execution_count": 50,
   "metadata": {},
   "outputs": [
    {
     "data": {
      "text/plain": [
       "8"
      ]
     },
     "execution_count": 50,
     "metadata": {},
     "output_type": "execute_result"
    }
   ],
   "source": [
    "A.min()"
   ]
  },
  {
   "cell_type": "code",
   "execution_count": 51,
   "metadata": {},
   "outputs": [
    {
     "data": {
      "text/plain": [
       "16.0"
      ]
     },
     "execution_count": 51,
     "metadata": {},
     "output_type": "execute_result"
    }
   ],
   "source": [
    "A.mean()"
   ]
  },
  {
   "cell_type": "code",
   "execution_count": 52,
   "metadata": {},
   "outputs": [],
   "source": [
    "B = A "
   ]
  },
  {
   "cell_type": "code",
   "execution_count": 62,
   "metadata": {},
   "outputs": [
    {
     "data": {
      "text/plain": [
       "array([[ 8,  9, 10, 11, 12, 13, 14, 15, 16, 17, 18, 19, 20, 21, 22, 23,\n",
       "        24]])"
      ]
     },
     "execution_count": 62,
     "metadata": {},
     "output_type": "execute_result"
    }
   ],
   "source": [
    "A_2 = A.reshape( 1, -1 )\n",
    "A_2"
   ]
  },
  {
   "cell_type": "code",
   "execution_count": 66,
   "metadata": {},
   "outputs": [
    {
     "data": {
      "text/plain": [
       "(1, 17)"
      ]
     },
     "execution_count": 66,
     "metadata": {},
     "output_type": "execute_result"
    }
   ],
   "source": [
    "A_2.shape"
   ]
  },
  {
   "cell_type": "markdown",
   "metadata": {},
   "source": [
    "|Name| Definition|\n",
    "|---|---|\n",
    "|attribute|A variable stored in an instance or class.|\n",
    "|method|A function stored in an instance or class.|"
   ]
  },
  {
   "cell_type": "markdown",
   "metadata": {},
   "source": [
    "###  <a id='#5.2.6.'> 5.2.6. \\_\\_init\\_\\_() </a>\n",
    "\n",
    "In python classes, “__init__” method is reserved. It is automatically called when you create an object using a class and is used to initialize the variables of the class. It is equivalent to a constructor.\n",
    "\n",
    "- Like any other method, init method starts with the keyword **“def”**\n",
    "- **“self”** is the first parameter in this method just like any other method although in case of init, **“self”** refers to a newly created object unlike other methods where it refers to the current object or instance associated with that particular method.\n",
    "- Additional parameters can be added"
   ]
  },
  {
   "cell_type": "markdown",
   "metadata": {},
   "source": [
    "### <a id='#5.2.7.'> 5.2.7. Self</a>\n",
    "self represents the instance of the class. By using the **“self”** keyword we build attributes and methods for the class in python. It binds the attributes with the given arguments."
   ]
  },
  {
   "cell_type": "code",
   "execution_count": 54,
   "metadata": {},
   "outputs": [],
   "source": [
    "def print_name(name):\n",
    "    print(name)"
   ]
  },
  {
   "cell_type": "code",
   "execution_count": 55,
   "metadata": {},
   "outputs": [
    {
     "name": "stdout",
     "output_type": "stream",
     "text": [
      "Alexander\n"
     ]
    }
   ],
   "source": [
    "print_name(name = \"Alexander\")"
   ]
  },
  {
   "cell_type": "code",
   "execution_count": 56,
   "metadata": {},
   "outputs": [],
   "source": [
    "class qlab_students:\n",
    "    \n",
    "    def __init__(self, name, age):\n",
    "        self.name_student = name\n",
    "        self.age_student = age\n",
    "\n",
    "    def print_name( self ):\n",
    "        print( f'I am { self.name_student }.' )\n",
    "        \n",
    "    def print_age( self ):\n",
    "        print( f'I am  { self.age_student } years old' ) "
   ]
  },
  {
   "cell_type": "code",
   "execution_count": 57,
   "metadata": {},
   "outputs": [],
   "source": [
    "student1 = qlab_students( name=\"Maria Alejandra Colan\", age=\"20\"  )"
   ]
  },
  {
   "cell_type": "code",
   "execution_count": 58,
   "metadata": {},
   "outputs": [
    {
     "data": {
      "text/plain": [
       "__main__.qlab_students"
      ]
     },
     "execution_count": 58,
     "metadata": {},
     "output_type": "execute_result"
    }
   ],
   "source": [
    "type(student1)"
   ]
  },
  {
   "cell_type": "code",
   "execution_count": 59,
   "metadata": {},
   "outputs": [
    {
     "name": "stdout",
     "output_type": "stream",
     "text": [
      "I am  20 years old\n"
     ]
    }
   ],
   "source": [
    "student1.print_age()"
   ]
  },
  {
   "cell_type": "code",
   "execution_count": 60,
   "metadata": {},
   "outputs": [
    {
     "name": "stdout",
     "output_type": "stream",
     "text": [
      "I am Maria Alejandra Colan.\n"
     ]
    }
   ],
   "source": [
    "student1.print_name()"
   ]
  },
  {
   "cell_type": "markdown",
   "metadata": {},
   "source": [
    "# <a id='#5.3.'>5.3. References </a>  \n",
    "\n",
    "- [Functions](https://www.datacamp.com/community/tutorials/functions-python-tutorial?utm_source=adwords_ppc&utm_medium=cpc&utm_campaignid=1455363063&utm_adgroupid=65083631748&utm_device=c&utm_keyword=&utm_matchtype=&utm_network=g&utm_adpostion=&utm_creative=332602034358&utm_targetid=dsa-473406571355&utm_loc_interest_ms=&utm_loc_physical_ms=9060932&gclid=CjwKCAiAqIKNBhAIEiwAu_ZLDp9lkv0t5drR4g_hjgXp0DBU3XoRLPEeQT9wGMhCyiZd09kjsAXKaRoCFmUQAvD_BwE)\n",
    "- [Functions](https://www.w3schools.com/python/python_functions.asp)\n",
    "- [Args and Kwargs](https://book.pythontips.com/en/latest/args_and_kwargs.html)\n",
    "\n",
    "- [Clases](https://www.geeksforgeeks.org/namespaces-and-scope-in-python/#:~:text=A%20namespace%20is%20a%20system,form%20of%20a%20Python%20dictionary.&text=Its%20Name%20(which%20means%20name,talks%20something%20related%20to%20scope)\n",
    "\n",
    "- [Clases](https://www.geeksforgeeks.org/python-classes-and-objects/)\n",
    "\n",
    "- [Clases Advantages](https://intellipaat.com/blog/tutorial/python-tutorial/python-classes-and-objects/#_Advantages_of_class)\n",
    "\n",
    "- [Self](https://www.geeksforgeeks.org/self-in-python-class/)\n",
    "\n",
    "- [FU](https://realpython.com/defining-your-own-python-function/#functions-in-python)\n",
    "\n",
    "- https://stackoverflow.com/questions/46312470/difference-between-methods-and-attributes-in-python\n",
    "\n",
    "- https://stackoverflow.com/questions/2489669/how-do-python-functions-handle-the-types-of-parameters-that-you-pass-in"
   ]
  }
 ],
 "metadata": {
  "hide_input": false,
  "kernelspec": {
   "display_name": "base",
   "language": "python",
   "name": "python3"
  },
  "language_info": {
   "codemirror_mode": {
    "name": "ipython",
    "version": 3
   },
   "file_extension": ".py",
   "mimetype": "text/x-python",
   "name": "python",
   "nbconvert_exporter": "python",
   "pygments_lexer": "ipython3",
   "version": "3.11.7"
  }
 },
 "nbformat": 4,
 "nbformat_minor": 4
}
