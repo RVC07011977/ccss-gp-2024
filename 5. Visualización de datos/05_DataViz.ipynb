{
 "cells": [
  {
   "cell_type": "markdown",
   "metadata": {},
   "source": [
    "# Visualización de datos"
   ]
  },
  {
   "cell_type": "markdown",
   "metadata": {},
   "source": [
    "## **¿Qué hacen los gráficos?**\n",
    "- Nos ayudan a tomar una decisión\n",
    "- Explica conceptos\n",
    "- La mayoría de los humanos no son naturalmente numéricos"
   ]
  },
  {
   "cell_type": "markdown",
   "metadata": {},
   "source": [
    "#### **Matplotlib**"
   ]
  },
  {
   "cell_type": "code",
   "execution_count": null,
   "metadata": {},
   "outputs": [],
   "source": [
    "!pip install matplotlib # si instalaron con conda usar !conda install matplotlib\n",
    "!pip install seaborn\n",
    "!pip install plotly"
   ]
  },
  {
   "cell_type": "code",
   "execution_count": 2,
   "metadata": {},
   "outputs": [],
   "source": [
    "import matplotlib.pyplot as plt\n",
    "import numpy as np"
   ]
  },
  {
   "cell_type": "code",
   "execution_count": 3,
   "metadata": {},
   "outputs": [
    {
     "data": {
      "text/plain": [
       "array([ 0.        ,  0.1010101 ,  0.2020202 ,  0.3030303 ,  0.4040404 ,\n",
       "        0.50505051,  0.60606061,  0.70707071,  0.80808081,  0.90909091,\n",
       "        1.01010101,  1.11111111,  1.21212121,  1.31313131,  1.41414141,\n",
       "        1.51515152,  1.61616162,  1.71717172,  1.81818182,  1.91919192,\n",
       "        2.02020202,  2.12121212,  2.22222222,  2.32323232,  2.42424242,\n",
       "        2.52525253,  2.62626263,  2.72727273,  2.82828283,  2.92929293,\n",
       "        3.03030303,  3.13131313,  3.23232323,  3.33333333,  3.43434343,\n",
       "        3.53535354,  3.63636364,  3.73737374,  3.83838384,  3.93939394,\n",
       "        4.04040404,  4.14141414,  4.24242424,  4.34343434,  4.44444444,\n",
       "        4.54545455,  4.64646465,  4.74747475,  4.84848485,  4.94949495,\n",
       "        5.05050505,  5.15151515,  5.25252525,  5.35353535,  5.45454545,\n",
       "        5.55555556,  5.65656566,  5.75757576,  5.85858586,  5.95959596,\n",
       "        6.06060606,  6.16161616,  6.26262626,  6.36363636,  6.46464646,\n",
       "        6.56565657,  6.66666667,  6.76767677,  6.86868687,  6.96969697,\n",
       "        7.07070707,  7.17171717,  7.27272727,  7.37373737,  7.47474747,\n",
       "        7.57575758,  7.67676768,  7.77777778,  7.87878788,  7.97979798,\n",
       "        8.08080808,  8.18181818,  8.28282828,  8.38383838,  8.48484848,\n",
       "        8.58585859,  8.68686869,  8.78787879,  8.88888889,  8.98989899,\n",
       "        9.09090909,  9.19191919,  9.29292929,  9.39393939,  9.49494949,\n",
       "        9.5959596 ,  9.6969697 ,  9.7979798 ,  9.8989899 , 10.        ])"
      ]
     },
     "execution_count": 3,
     "metadata": {},
     "output_type": "execute_result"
    }
   ],
   "source": [
    "# Datos\n",
    "x = np.linspace(0, 10, 100)\n",
    "x"
   ]
  },
  {
   "cell_type": "code",
   "execution_count": 4,
   "metadata": {},
   "outputs": [
    {
     "data": {
      "text/plain": [
       "array([ 0.        ,  0.10083842,  0.20064886,  0.2984138 ,  0.39313661,\n",
       "        0.48385164,  0.56963411,  0.64960951,  0.72296256,  0.78894546,\n",
       "        0.84688556,  0.8961922 ,  0.93636273,  0.96698762,  0.98775469,\n",
       "        0.99845223,  0.99897117,  0.98930624,  0.96955595,  0.93992165,\n",
       "        0.90070545,  0.85230712,  0.79522006,  0.73002623,  0.65739025,\n",
       "        0.57805259,  0.49282204,  0.40256749,  0.30820902,  0.21070855,\n",
       "        0.11106004,  0.01027934, -0.09060615, -0.19056796, -0.28858706,\n",
       "       -0.38366419, -0.47483011, -0.56115544, -0.64176014, -0.7158225 ,\n",
       "       -0.7825875 , -0.84137452, -0.89158426, -0.93270486, -0.96431712,\n",
       "       -0.98609877, -0.99782778, -0.99938456, -0.99075324, -0.97202182,\n",
       "       -0.94338126, -0.90512352, -0.85763861, -0.80141062, -0.73701276,\n",
       "       -0.66510151, -0.58640998, -0.50174037, -0.41195583, -0.31797166,\n",
       "       -0.22074597, -0.12126992, -0.0205576 ,  0.0803643 ,  0.18046693,\n",
       "        0.27872982,  0.37415123,  0.46575841,  0.55261747,  0.63384295,\n",
       "        0.7086068 ,  0.77614685,  0.83577457,  0.8868821 ,  0.92894843,\n",
       "        0.96154471,  0.98433866,  0.99709789,  0.99969234,  0.99209556,\n",
       "        0.97438499,  0.94674118,  0.90944594,  0.86287948,  0.8075165 ,\n",
       "        0.74392141,  0.6727425 ,  0.59470541,  0.51060568,  0.42130064,\n",
       "        0.32770071,  0.23076008,  0.13146699,  0.03083368, -0.07011396,\n",
       "       -0.17034683, -0.26884313, -0.36459873, -0.45663749, -0.54402111])"
      ]
     },
     "execution_count": 4,
     "metadata": {},
     "output_type": "execute_result"
    }
   ],
   "source": [
    "# Datos\n",
    "x = np.linspace(0, 10, 100)\n",
    "x"
   ]
  },
  {
   "cell_type": "code",
   "execution_count": 5,
   "metadata": {},
   "outputs": [
    {
     "data": {
      "text/html": [
       "<div>\n",
       "<style scoped>\n",
       "    .dataframe tbody tr th:only-of-type {\n",
       "        vertical-align: middle;\n",
       "    }\n",
       "\n",
       "    .dataframe tbody tr th {\n",
       "        vertical-align: top;\n",
       "    }\n",
       "\n",
       "    .dataframe thead th {\n",
       "        text-align: right;\n",
       "    }\n",
       "</style>\n",
       "<table border=\"1\" class=\"dataframe\">\n",
       "  <thead>\n",
       "    <tr style=\"text-align: right;\">\n",
       "      <th></th>\n",
       "      <th>x</th>\n",
       "      <th>y</th>\n",
       "    </tr>\n",
       "  </thead>\n",
       "  <tbody>\n",
       "    <tr>\n",
       "      <th>0</th>\n",
       "      <td>0.00000</td>\n",
       "      <td>0.000000</td>\n",
       "    </tr>\n",
       "    <tr>\n",
       "      <th>1</th>\n",
       "      <td>0.10101</td>\n",
       "      <td>0.100838</td>\n",
       "    </tr>\n",
       "    <tr>\n",
       "      <th>2</th>\n",
       "      <td>0.20202</td>\n",
       "      <td>0.200649</td>\n",
       "    </tr>\n",
       "    <tr>\n",
       "      <th>3</th>\n",
       "      <td>0.30303</td>\n",
       "      <td>0.298414</td>\n",
       "    </tr>\n",
       "    <tr>\n",
       "      <th>4</th>\n",
       "      <td>0.40404</td>\n",
       "      <td>0.393137</td>\n",
       "    </tr>\n",
       "    <tr>\n",
       "      <th>...</th>\n",
       "      <td>...</td>\n",
       "      <td>...</td>\n",
       "    </tr>\n",
       "    <tr>\n",
       "      <th>95</th>\n",
       "      <td>9.59596</td>\n",
       "      <td>-0.170347</td>\n",
       "    </tr>\n",
       "    <tr>\n",
       "      <th>96</th>\n",
       "      <td>9.69697</td>\n",
       "      <td>-0.268843</td>\n",
       "    </tr>\n",
       "    <tr>\n",
       "      <th>97</th>\n",
       "      <td>9.79798</td>\n",
       "      <td>-0.364599</td>\n",
       "    </tr>\n",
       "    <tr>\n",
       "      <th>98</th>\n",
       "      <td>9.89899</td>\n",
       "      <td>-0.456637</td>\n",
       "    </tr>\n",
       "    <tr>\n",
       "      <th>99</th>\n",
       "      <td>10.00000</td>\n",
       "      <td>-0.544021</td>\n",
       "    </tr>\n",
       "  </tbody>\n",
       "</table>\n",
       "<p>100 rows × 2 columns</p>\n",
       "</div>"
      ],
      "text/plain": [
       "           x         y\n",
       "0    0.00000  0.000000\n",
       "1    0.10101  0.100838\n",
       "2    0.20202  0.200649\n",
       "3    0.30303  0.298414\n",
       "4    0.40404  0.393137\n",
       "..       ...       ...\n",
       "95   9.59596 -0.170347\n",
       "96   9.69697 -0.268843\n",
       "97   9.79798 -0.364599\n",
       "98   9.89899 -0.456637\n",
       "99  10.00000 -0.544021\n",
       "\n",
       "[100 rows x 2 columns]"
      ]
     },
     "execution_count": 5,
     "metadata": {},
     "output_type": "execute_result"
    }
   ],
   "source": [
    "import pandas as pd\n",
    "\n",
    "df = pd.DataFrame({\"x\": x, \"y\": y})\n",
    "df"
   ]
  },
  {
   "cell_type": "code",
   "execution_count": 19,
   "metadata": {},
   "outputs": [
    {
     "data": {
      "image/png": "[encoded data removed]",
      "text/plain": [
       "<Figure size 400x300 with 1 Axes>"
      ]
     },
     "metadata": {},
     "output_type": "display_data"
    }
   ],
   "source": [
    "plt.figure(figsize=(4,3))\n",
    "plt.plot(x, y, label=\"Seno\", color=\"orange\")\n",
    "plt.title(\"Gráfico estático: Seno\")\n",
    "plt.xlabel(\"Eje horizontal: x\")\n",
    "plt.ylabel(\"Eje vertical: sen(x)\")\n",
    "plt.legend()\n",
    "plt.grid(True)\n",
    "plt.show()"
   ]
  },
  {
   "cell_type": "code",
   "execution_count": 21,
   "metadata": {},
   "outputs": [
    {
     "data": {
      "image/png": "[encoded data removed]",
      "text/plain": [
       "<Figure size 400x300 with 1 Axes>"
      ]
     },
     "metadata": {},
     "output_type": "display_data"
    }
   ],
   "source": [
    "import matplotlib.pyplot as plt\n",
    "import numpy as np\n",
    "\n",
    "# Datos\n",
    "x = np.linspace(0, 10, 100)\n",
    "y = np.sin(x)\n",
    "\n",
    "# Crear gráfico\n",
    "plt.figure(figsize=(4, 3))\n",
    "plt.plot(x, y, label='Seno', color='blue')\n",
    "plt.title('Gráfico Estático: Seno')\n",
    "plt.xlabel('x')\n",
    "plt.ylabel('sin(x)')\n",
    "plt.legend()\n",
    "plt.grid(True)\n",
    "plt.show()"
   ]
  },
  {
   "cell_type": "markdown",
   "metadata": {},
   "source": [
    "#### **Seaborn**"
   ]
  },
  {
   "cell_type": "code",
   "execution_count": 22,
   "metadata": {},
   "outputs": [],
   "source": [
    "import seaborn as sns\n",
    "import pandas as pd"
   ]
  },
  {
   "cell_type": "code",
   "execution_count": 23,
   "metadata": {},
   "outputs": [
    {
     "data": {
      "text/plain": [
       "array([-0.29050945, -0.36661358,  0.29230718, ...,  0.15058238,\n",
       "       -0.96307659,  0.76119121])"
      ]
     },
     "execution_count": 23,
     "metadata": {},
     "output_type": "execute_result"
    }
   ],
   "source": [
    "# Datos simulados\n",
    "data = np.random.normal(size=10000)\n",
    "data"
   ]
  },
  {
   "cell_type": "code",
   "execution_count": 28,
   "metadata": {},
   "outputs": [
    {
     "data": {
      "image/png": "[encoded data removed]",
      "text/plain": [
       "<Figure size 400x300 with 1 Axes>"
      ]
     },
     "metadata": {},
     "output_type": "display_data"
    }
   ],
   "source": [
    "plt.figure(figsize=(4,3))\n",
    "sns.histplot(data, bins=30, color=\"green\", kde=True)\n",
    "plt.show()"
   ]
  },
  {
   "cell_type": "code",
   "execution_count": 27,
   "metadata": {},
   "outputs": [
    {
     "data": {
      "image/png": "[encoded data removed]",
      "text/plain": [
       "<Figure size 800x500 with 1 Axes>"
      ]
     },
     "metadata": {},
     "output_type": "display_data"
    }
   ],
   "source": [
    "import seaborn as sns\n",
    "import pandas as pd\n",
    "\n",
    "# Datos simulados\n",
    "data = np.random.normal(size=1000)\n",
    "\n",
    "# Crear gráfico\n",
    "plt.figure(figsize=(8, 5))\n",
    "sns.histplot(data, bins=30, kde=True, color='purple')\n",
    "plt.title('Gráfico Estático: Histograma')\n",
    "plt.xlabel('Valor')\n",
    "plt.ylabel('Frecuencia')\n",
    "plt.show()"
   ]
  },
  {
   "cell_type": "markdown",
   "metadata": {},
   "source": [
    "#### **Plotly**"
   ]
  },
  {
   "cell_type": "code",
   "execution_count": null,
   "metadata": {},
   "outputs": [],
   "source": [
    "!pip install plotly"
   ]
  },
  {
   "cell_type": "code",
   "execution_count": 29,
   "metadata": {},
   "outputs": [],
   "source": [
    "import plotly.express as px\n",
    "import pandas as pd"
   ]
  },
  {
   "cell_type": "code",
   "execution_count": 39,
   "metadata": {},
   "outputs": [
    {
     "data": {
      "text/html": [
       "<div>\n",
       "<style scoped>\n",
       "    .dataframe tbody tr th:only-of-type {\n",
       "        vertical-align: middle;\n",
       "    }\n",
       "\n",
       "    .dataframe tbody tr th {\n",
       "        vertical-align: top;\n",
       "    }\n",
       "\n",
       "    .dataframe thead th {\n",
       "        text-align: right;\n",
       "    }\n",
       "</style>\n",
       "<table border=\"1\" class=\"dataframe\">\n",
       "  <thead>\n",
       "    <tr style=\"text-align: right;\">\n",
       "      <th></th>\n",
       "      <th>x</th>\n",
       "      <th>y</th>\n",
       "      <th>size</th>\n",
       "      <th>color</th>\n",
       "    </tr>\n",
       "  </thead>\n",
       "  <tbody>\n",
       "    <tr>\n",
       "      <th>0</th>\n",
       "      <td>0.028685</td>\n",
       "      <td>0.904626</td>\n",
       "      <td>6.397040</td>\n",
       "      <td>B</td>\n",
       "    </tr>\n",
       "    <tr>\n",
       "      <th>1</th>\n",
       "      <td>0.470299</td>\n",
       "      <td>0.742524</td>\n",
       "      <td>22.276496</td>\n",
       "      <td>A</td>\n",
       "    </tr>\n",
       "    <tr>\n",
       "      <th>2</th>\n",
       "      <td>0.545990</td>\n",
       "      <td>0.188338</td>\n",
       "      <td>39.128000</td>\n",
       "      <td>C</td>\n",
       "    </tr>\n",
       "    <tr>\n",
       "      <th>3</th>\n",
       "      <td>0.550386</td>\n",
       "      <td>0.179513</td>\n",
       "      <td>11.761712</td>\n",
       "      <td>B</td>\n",
       "    </tr>\n",
       "    <tr>\n",
       "      <th>4</th>\n",
       "      <td>0.753845</td>\n",
       "      <td>0.153975</td>\n",
       "      <td>39.504631</td>\n",
       "      <td>B</td>\n",
       "    </tr>\n",
       "    <tr>\n",
       "      <th>...</th>\n",
       "      <td>...</td>\n",
       "      <td>...</td>\n",
       "      <td>...</td>\n",
       "      <td>...</td>\n",
       "    </tr>\n",
       "    <tr>\n",
       "      <th>95</th>\n",
       "      <td>0.908648</td>\n",
       "      <td>0.130119</td>\n",
       "      <td>2.308067</td>\n",
       "      <td>A</td>\n",
       "    </tr>\n",
       "    <tr>\n",
       "      <th>96</th>\n",
       "      <td>0.372989</td>\n",
       "      <td>0.588277</td>\n",
       "      <td>30.584573</td>\n",
       "      <td>B</td>\n",
       "    </tr>\n",
       "    <tr>\n",
       "      <th>97</th>\n",
       "      <td>0.586408</td>\n",
       "      <td>0.537341</td>\n",
       "      <td>17.617849</td>\n",
       "      <td>B</td>\n",
       "    </tr>\n",
       "    <tr>\n",
       "      <th>98</th>\n",
       "      <td>0.471536</td>\n",
       "      <td>0.887714</td>\n",
       "      <td>23.934639</td>\n",
       "      <td>C</td>\n",
       "    </tr>\n",
       "    <tr>\n",
       "      <th>99</th>\n",
       "      <td>0.240010</td>\n",
       "      <td>0.004295</td>\n",
       "      <td>37.107877</td>\n",
       "      <td>C</td>\n",
       "    </tr>\n",
       "  </tbody>\n",
       "</table>\n",
       "<p>100 rows × 4 columns</p>\n",
       "</div>"
      ],
      "text/plain": [
       "           x         y       size color\n",
       "0   0.028685  0.904626   6.397040     B\n",
       "1   0.470299  0.742524  22.276496     A\n",
       "2   0.545990  0.188338  39.128000     C\n",
       "3   0.550386  0.179513  11.761712     B\n",
       "4   0.753845  0.153975  39.504631     B\n",
       "..       ...       ...        ...   ...\n",
       "95  0.908648  0.130119   2.308067     A\n",
       "96  0.372989  0.588277  30.584573     B\n",
       "97  0.586408  0.537341  17.617849     B\n",
       "98  0.471536  0.887714  23.934639     C\n",
       "99  0.240010  0.004295  37.107877     C\n",
       "\n",
       "[100 rows x 4 columns]"
      ]
     },
     "execution_count": 39,
     "metadata": {},
     "output_type": "execute_result"
    }
   ],
   "source": [
    "# Datos simulados\n",
    "df = pd.DataFrame({\n",
    "    'x': np.random.rand(100),\n",
    "    'y': np.random.rand(100),\n",
    "    'size': np.random.rand(100) * 50,\n",
    "    'color': np.random.choice(['A', 'B', 'C'], 100)\n",
    "})\n",
    "\n",
    "df"
   ]
  },
  {
   "cell_type": "code",
   "execution_count": 45,
   "metadata": {},
   "outputs": [
    {
     "data": {
      "application/vnd.plotly.v1+json": {
       "config": {
        "plotlyServerURL": "https://plot.ly"
       },
       "data": [
        {
         "hovertemplate": "color=B<br>Eje X=%{x}<br>Eje Y=%{y}<br>size=%{marker.size}<extra></extra>",
         "legendgroup": "B",
         "marker": {
          "color": "#636efa",
          "size": [
           6.397040230820355,
           11.761712207407882,
           39.50463078170504,
           24.97139972168131,
           46.45157536508131,
           43.49659668057173,
           23.75038704515468,
           41.98663650649122,
           28.614450905317213,
           46.286378765908424,
           8.954931467494125,
           42.416245388775614,
           18.019228506477543,
           42.912984058911604,
           5.793779869123922,
           27.529213205112807,
           18.732238280531398,
           8.361030451079332,
           8.583698066432916,
           43.1885936254113,
           34.505695817746755,
           35.05845430321132,
           15.76717550490076,
           14.912010977328121,
           11.568854449370708,
           1.3143136877317163,
           40.78423260539112,
           3.570077034748631,
           2.3866706257948236,
           44.60603155740689,
           22.815236783949285,
           29.44461193897948,
           16.62104104029483,
           5.645245997802439,
           19.646987409733242,
           46.32244419742839,
           47.80925715218565,
           5.980237654185832,
           30.584572736719213,
           17.617848508118573
          ],
          "sizemode": "area",
          "sizeref": 0.12273946629558936,
          "symbol": "circle"
         },
         "mode": "markers",
         "name": "B",
         "orientation": "v",
         "showlegend": true,
         "type": "scatter",
         "x": [
          0.028685015730419372,
          0.5503856873431686,
          0.753844656260351,
          0.20224983484317782,
          0.2791620110117867,
          0.6913954458457501,
          0.1505171640763754,
          0.31649289381896395,
          0.6296790746561653,
          0.29847843833872656,
          0.3392111671305621,
          0.6894106468340735,
          0.6569370225530118,
          0.9702454741313049,
          0.937957010820269,
          0.15983762057361262,
          0.011957407230258621,
          0.46968714593897776,
          0.024877902417665743,
          0.40480196482198927,
          0.8877194444899024,
          0.34771951122678924,
          0.3920922525527738,
          0.6124897126438185,
          0.678465642611253,
          0.41371285975406147,
          0.24446208784585632,
          0.39391915493395835,
          0.8812295361837307,
          0.9888399181285248,
          0.08854264724751904,
          0.0708319520186177,
          0.12457083290472659,
          0.6684384536279552,
          0.6483945096219236,
          0.4303298489731294,
          0.9036207622783274,
          0.8903678111642109,
          0.3729886074984987,
          0.5864081277533445
         ],
         "xaxis": "x",
         "y": [
          0.9046262794957198,
          0.1795132681912368,
          0.15397516515976428,
          0.034819731103881146,
          0.8696618632964582,
          0.17488397949673762,
          0.6791000616475864,
          0.9782222143812722,
          0.6900326531526569,
          0.7823577683338612,
          0.9020984931133917,
          0.9842277531308352,
          0.23092738272530156,
          0.2079364053581011,
          0.22331114290399257,
          0.18574248920930247,
          0.8892739939600346,
          0.19799583814935862,
          0.6373192260716061,
          0.6254269375102276,
          0.7940317602864517,
          0.1703616135354724,
          0.7345619549262483,
          0.4233558168805729,
          0.7679797218368188,
          0.368635912740905,
          0.018383556848730942,
          0.9417699943245929,
          0.8731133278269462,
          0.9559087894736192,
          0.02385611577687108,
          0.8630445651694496,
          0.5258434639826971,
          0.4273035221149223,
          0.9193331027935308,
          0.08340156391175357,
          0.640637498928053,
          0.7648674358459066,
          0.5882773851708305,
          0.5373405863634731
         ],
         "yaxis": "y"
        },
        {
         "hovertemplate": "color=A<br>Eje X=%{x}<br>Eje Y=%{y}<br>size=%{marker.size}<extra></extra>",
         "legendgroup": "A",
         "marker": {
          "color": "#EF553B",
          "size": [
           22.276496019441854,
           27.967175156526103,
           16.661683923015637,
           12.364615072454116,
           43.26132967216725,
           39.28177172457961,
           0.26091843278678306,
           1.917291850476499,
           25.59707215447517,
           20.748272522394736,
           17.01019781080791,
           30.6577437630067,
           11.411500365380217,
           40.8354079418649,
           46.143500806499354,
           30.78188714961042,
           30.444056387268986,
           13.45035518186325,
           47.99754972254506,
           40.37967062995752,
           10.118115666837213,
           28.66105656444286,
           36.65133804673021,
           1.8928471282174564,
           20.577214604633546,
           30.987345808743328,
           8.370755493130467,
           14.509733911796092,
           45.243856083040725,
           48.57805119512055,
           34.49542739711502,
           33.07650176043666,
           7.056582936042178,
           26.627007882145975,
           27.079166224059435,
           2.308066660168545
          ],
          "sizemode": "area",
          "sizeref": 0.12273946629558936,
          "symbol": "circle"
         },
         "mode": "markers",
         "name": "A",
         "orientation": "v",
         "showlegend": true,
         "type": "scatter",
         "x": [
          0.470299498080588,
          0.286849002825848,
          0.05949765374102334,
          0.31036903073663014,
          0.6309249897289381,
          0.1411875718601847,
          0.9455056993286026,
          0.9157330720814134,
          0.6300408155199784,
          0.2186678955679595,
          0.8285061852880502,
          0.9571466968470759,
          0.6040207871853601,
          0.9068192205035203,
          0.556514700295345,
          0.5004119650725329,
          0.31423190170198545,
          0.7373466159117696,
          0.9330241515027015,
          0.13220881792963213,
          0.10410622861591234,
          0.3273371824413561,
          0.22038810430573597,
          0.814039903359571,
          0.15755619372201324,
          0.1839982960002362,
          0.6709641511241907,
          0.725974655626215,
          0.6711262703013247,
          0.18152749095993648,
          0.7754454292057004,
          0.6519373505915321,
          0.14600539056038297,
          0.10743291715807424,
          0.9472698793112585,
          0.9086484216296404
         ],
         "xaxis": "x",
         "y": [
          0.7425239860233737,
          0.21106601393339275,
          0.42859249391891263,
          0.5292338174947014,
          0.8418011602495752,
          0.8757426988739467,
          0.618870114150027,
          0.2130752065883209,
          0.6928274394302585,
          0.7098099826927818,
          0.1546543457628906,
          0.2913633439711243,
          0.999917559519067,
          0.42266099184992023,
          0.5383308604654649,
          0.6612955873219812,
          0.39075159196444254,
          0.9673881182527929,
          0.33089217079408106,
          0.8933382361838799,
          0.15335346027609298,
          0.9651079018040483,
          0.5415363770308207,
          0.3812130892254886,
          0.0309915776536811,
          0.014471142960318373,
          0.4337410890891863,
          0.58885658844855,
          0.787278988865838,
          0.9336702945422978,
          0.7223791951634061,
          0.41292420967147137,
          0.3989797632805394,
          0.7487186302020279,
          0.2763398640555337,
          0.13011916941609825
         ],
         "yaxis": "y"
        },
        {
         "hovertemplate": "color=C<br>Eje X=%{x}<br>Eje Y=%{y}<br>size=%{marker.size}<extra></extra>",
         "legendgroup": "C",
         "marker": {
          "color": "#00cc96",
          "size": [
           39.12800009363026,
           41.377229774711125,
           21.05722237662976,
           42.38139262850763,
           22.182073657713513,
           11.007932507314722,
           21.950845378127408,
           37.24286613555955,
           25.582174347419866,
           31.33796088770867,
           24.433108098734802,
           48.5387495557635,
           36.3323843017236,
           28.093137578043365,
           42.09841471446844,
           36.54459179600052,
           20.2592573905779,
           11.655018510635728,
           3.701949365648982,
           3.9037445772082013,
           34.96945498497973,
           49.09578651823575,
           23.93463933607416,
           37.107877114284726
          ],
          "sizemode": "area",
          "sizeref": 0.12273946629558936,
          "symbol": "circle"
         },
         "mode": "markers",
         "name": "C",
         "orientation": "v",
         "showlegend": true,
         "type": "scatter",
         "x": [
          0.5459900940071648,
          0.48006524194679023,
          0.22625783321858095,
          0.4812698056437781,
          0.30867642678878404,
          0.46791465759784834,
          0.2807564242674798,
          0.9272299758383228,
          0.6009351239430827,
          0.529255793532094,
          0.7361717690183301,
          0.38495220218292225,
          0.5582154293774786,
          0.06341924202338112,
          0.6112825182387505,
          0.9540950597669487,
          0.7546087060534791,
          0.5445830237898676,
          0.715009492951874,
          0.6773420817966858,
          0.6922171904239812,
          0.5047516167187266,
          0.4715359810969876,
          0.24000967166586562
         ],
         "xaxis": "x",
         "y": [
          0.18833805740672138,
          0.6593309193171415,
          0.04069785095612033,
          0.48373657585836927,
          0.5701635386555315,
          0.914271926125027,
          0.7992250871401311,
          0.9751362404825921,
          0.7686151360483754,
          0.8218213715723107,
          0.5991510842043974,
          0.8330907588294232,
          0.7514781109014707,
          0.33848299194358933,
          0.6922706083309166,
          0.5476827865764461,
          0.4174570941449044,
          0.8822074098986535,
          0.9644467515262942,
          0.01615793724187975,
          0.609050600288331,
          0.576773572098914,
          0.8877137020822272,
          0.004294899201203517
         ],
         "yaxis": "y"
        }
       ],
       "layout": {
        "height": 500,
        "legend": {
         "itemsizing": "constant",
         "title": {
          "text": "color"
         },
         "tracegroupgap": 0
        },
        "template": {
         "data": {
          "bar": [
           {
            "error_x": {
             "color": "#f2f5fa"
            },
            "error_y": {
             "color": "#f2f5fa"
            },
            "marker": {
             "line": {
              "color": "rgb(17,17,17)",
              "width": 0.5
             },
             "pattern": {
              "fillmode": "overlay",
              "size": 10,
              "solidity": 0.2
             }
            },
            "type": "bar"
           }
          ],
          "barpolar": [
           {
            "marker": {
             "line": {
              "color": "rgb(17,17,17)",
              "width": 0.5
             },
             "pattern": {
              "fillmode": "overlay",
              "size": 10,
              "solidity": 0.2
             }
            },
            "type": "barpolar"
           }
          ],
          "carpet": [
           {
            "aaxis": {
             "endlinecolor": "#A2B1C6",
             "gridcolor": "#506784",
             "linecolor": "#506784",
             "minorgridcolor": "#506784",
             "startlinecolor": "#A2B1C6"
            },
            "baxis": {
             "endlinecolor": "#A2B1C6",
             "gridcolor": "#506784",
             "linecolor": "#506784",
             "minorgridcolor": "#506784",
             "startlinecolor": "#A2B1C6"
            },
            "type": "carpet"
           }
          ],
          "choropleth": [
           {
            "colorbar": {
             "outlinewidth": 0,
             "ticks": ""
            },
            "type": "choropleth"
           }
          ],
          "contour": [
           {
            "colorbar": {
             "outlinewidth": 0,
             "ticks": ""
            },
            "colorscale": [
             [
              0,
              "#0d0887"
             ],
             [
              0.1111111111111111,
              "#46039f"
             ],
             [
              0.2222222222222222,
              "#7201a8"
             ],
             [
              0.3333333333333333,
              "#9c179e"
             ],
             [
              0.4444444444444444,
              "#bd3786"
             ],
             [
              0.5555555555555556,
              "#d8576b"
             ],
             [
              0.6666666666666666,
              "#ed7953"
             ],
             [
              0.7777777777777778,
              "#fb9f3a"
             ],
             [
              0.8888888888888888,
              "#fdca26"
             ],
             [
              1,
              "#f0f921"
             ]
            ],
            "type": "contour"
           }
          ],
          "contourcarpet": [
           {
            "colorbar": {
             "outlinewidth": 0,
             "ticks": ""
            },
            "type": "contourcarpet"
           }
          ],
          "heatmap": [
           {
            "colorbar": {
             "outlinewidth": 0,
             "ticks": ""
            },
            "colorscale": [
             [
              0,
              "#0d0887"
             ],
             [
              0.1111111111111111,
              "#46039f"
             ],
             [
              0.2222222222222222,
              "#7201a8"
             ],
             [
              0.3333333333333333,
              "#9c179e"
             ],
             [
              0.4444444444444444,
              "#bd3786"
             ],
             [
              0.5555555555555556,
              "#d8576b"
             ],
             [
              0.6666666666666666,
              "#ed7953"
             ],
             [
              0.7777777777777778,
              "#fb9f3a"
             ],
             [
              0.8888888888888888,
              "#fdca26"
             ],
             [
              1,
              "#f0f921"
             ]
            ],
            "type": "heatmap"
           }
          ],
          "heatmapgl": [
           {
            "colorbar": {
             "outlinewidth": 0,
             "ticks": ""
            },
            "colorscale": [
             [
              0,
              "#0d0887"
             ],
             [
              0.1111111111111111,
              "#46039f"
             ],
             [
              0.2222222222222222,
              "#7201a8"
             ],
             [
              0.3333333333333333,
              "#9c179e"
             ],
             [
              0.4444444444444444,
              "#bd3786"
             ],
             [
              0.5555555555555556,
              "#d8576b"
             ],
             [
              0.6666666666666666,
              "#ed7953"
             ],
             [
              0.7777777777777778,
              "#fb9f3a"
             ],
             [
              0.8888888888888888,
              "#fdca26"
             ],
             [
              1,
              "#f0f921"
             ]
            ],
            "type": "heatmapgl"
           }
          ],
          "histogram": [
           {
            "marker": {
             "pattern": {
              "fillmode": "overlay",
              "size": 10,
              "solidity": 0.2
             }
            },
            "type": "histogram"
           }
          ],
          "histogram2d": [
           {
            "colorbar": {
             "outlinewidth": 0,
             "ticks": ""
            },
            "colorscale": [
             [
              0,
              "#0d0887"
             ],
             [
              0.1111111111111111,
              "#46039f"
             ],
             [
              0.2222222222222222,
              "#7201a8"
             ],
             [
              0.3333333333333333,
              "#9c179e"
             ],
             [
              0.4444444444444444,
              "#bd3786"
             ],
             [
              0.5555555555555556,
              "#d8576b"
             ],
             [
              0.6666666666666666,
              "#ed7953"
             ],
             [
              0.7777777777777778,
              "#fb9f3a"
             ],
             [
              0.8888888888888888,
              "#fdca26"
             ],
             [
              1,
              "#f0f921"
             ]
            ],
            "type": "histogram2d"
           }
          ],
          "histogram2dcontour": [
           {
            "colorbar": {
             "outlinewidth": 0,
             "ticks": ""
            },
            "colorscale": [
             [
              0,
              "#0d0887"
             ],
             [
              0.1111111111111111,
              "#46039f"
             ],
             [
              0.2222222222222222,
              "#7201a8"
             ],
             [
              0.3333333333333333,
              "#9c179e"
             ],
             [
              0.4444444444444444,
              "#bd3786"
             ],
             [
              0.5555555555555556,
              "#d8576b"
             ],
             [
              0.6666666666666666,
              "#ed7953"
             ],
             [
              0.7777777777777778,
              "#fb9f3a"
             ],
             [
              0.8888888888888888,
              "#fdca26"
             ],
             [
              1,
              "#f0f921"
             ]
            ],
            "type": "histogram2dcontour"
           }
          ],
          "mesh3d": [
           {
            "colorbar": {
             "outlinewidth": 0,
             "ticks": ""
            },
            "type": "mesh3d"
           }
          ],
          "parcoords": [
           {
            "line": {
             "colorbar": {
              "outlinewidth": 0,
              "ticks": ""
             }
            },
            "type": "parcoords"
           }
          ],
          "pie": [
           {
            "automargin": true,
            "type": "pie"
           }
          ],
          "scatter": [
           {
            "marker": {
             "line": {
              "color": "#283442"
             }
            },
            "type": "scatter"
           }
          ],
          "scatter3d": [
           {
            "line": {
             "colorbar": {
              "outlinewidth": 0,
              "ticks": ""
             }
            },
            "marker": {
             "colorbar": {
              "outlinewidth": 0,
              "ticks": ""
             }
            },
            "type": "scatter3d"
           }
          ],
          "scattercarpet": [
           {
            "marker": {
             "colorbar": {
              "outlinewidth": 0,
              "ticks": ""
             }
            },
            "type": "scattercarpet"
           }
          ],
          "scattergeo": [
           {
            "marker": {
             "colorbar": {
              "outlinewidth": 0,
              "ticks": ""
             }
            },
            "type": "scattergeo"
           }
          ],
          "scattergl": [
           {
            "marker": {
             "line": {
              "color": "#283442"
             }
            },
            "type": "scattergl"
           }
          ],
          "scattermapbox": [
           {
            "marker": {
             "colorbar": {
              "outlinewidth": 0,
              "ticks": ""
             }
            },
            "type": "scattermapbox"
           }
          ],
          "scatterpolar": [
           {
            "marker": {
             "colorbar": {
              "outlinewidth": 0,
              "ticks": ""
             }
            },
            "type": "scatterpolar"
           }
          ],
          "scatterpolargl": [
           {
            "marker": {
             "colorbar": {
              "outlinewidth": 0,
              "ticks": ""
             }
            },
            "type": "scatterpolargl"
           }
          ],
          "scatterternary": [
           {
            "marker": {
             "colorbar": {
              "outlinewidth": 0,
              "ticks": ""
             }
            },
            "type": "scatterternary"
           }
          ],
          "surface": [
           {
            "colorbar": {
             "outlinewidth": 0,
             "ticks": ""
            },
            "colorscale": [
             [
              0,
              "#0d0887"
             ],
             [
              0.1111111111111111,
              "#46039f"
             ],
             [
              0.2222222222222222,
              "#7201a8"
             ],
             [
              0.3333333333333333,
              "#9c179e"
             ],
             [
              0.4444444444444444,
              "#bd3786"
             ],
             [
              0.5555555555555556,
              "#d8576b"
             ],
             [
              0.6666666666666666,
              "#ed7953"
             ],
             [
              0.7777777777777778,
              "#fb9f3a"
             ],
             [
              0.8888888888888888,
              "#fdca26"
             ],
             [
              1,
              "#f0f921"
             ]
            ],
            "type": "surface"
           }
          ],
          "table": [
           {
            "cells": {
             "fill": {
              "color": "#506784"
             },
             "line": {
              "color": "rgb(17,17,17)"
             }
            },
            "header": {
             "fill": {
              "color": "#2a3f5f"
             },
             "line": {
              "color": "rgb(17,17,17)"
             }
            },
            "type": "table"
           }
          ]
         },
         "layout": {
          "annotationdefaults": {
           "arrowcolor": "#f2f5fa",
           "arrowhead": 0,
           "arrowwidth": 1
          },
          "autotypenumbers": "strict",
          "coloraxis": {
           "colorbar": {
            "outlinewidth": 0,
            "ticks": ""
           }
          },
          "colorscale": {
           "diverging": [
            [
             0,
             "#8e0152"
            ],
            [
             0.1,
             "#c51b7d"
            ],
            [
             0.2,
             "#de77ae"
            ],
            [
             0.3,
             "#f1b6da"
            ],
            [
             0.4,
             "#fde0ef"
            ],
            [
             0.5,
             "#f7f7f7"
            ],
            [
             0.6,
             "#e6f5d0"
            ],
            [
             0.7,
             "#b8e186"
            ],
            [
             0.8,
             "#7fbc41"
            ],
            [
             0.9,
             "#4d9221"
            ],
            [
             1,
             "#276419"
            ]
           ],
           "sequential": [
            [
             0,
             "#0d0887"
            ],
            [
             0.1111111111111111,
             "#46039f"
            ],
            [
             0.2222222222222222,
             "#7201a8"
            ],
            [
             0.3333333333333333,
             "#9c179e"
            ],
            [
             0.4444444444444444,
             "#bd3786"
            ],
            [
             0.5555555555555556,
             "#d8576b"
            ],
            [
             0.6666666666666666,
             "#ed7953"
            ],
            [
             0.7777777777777778,
             "#fb9f3a"
            ],
            [
             0.8888888888888888,
             "#fdca26"
            ],
            [
             1,
             "#f0f921"
            ]
           ],
           "sequentialminus": [
            [
             0,
             "#0d0887"
            ],
            [
             0.1111111111111111,
             "#46039f"
            ],
            [
             0.2222222222222222,
             "#7201a8"
            ],
            [
             0.3333333333333333,
             "#9c179e"
            ],
            [
             0.4444444444444444,
             "#bd3786"
            ],
            [
             0.5555555555555556,
             "#d8576b"
            ],
            [
             0.6666666666666666,
             "#ed7953"
            ],
            [
             0.7777777777777778,
             "#fb9f3a"
            ],
            [
             0.8888888888888888,
             "#fdca26"
            ],
            [
             1,
             "#f0f921"
            ]
           ]
          },
          "colorway": [
           "#636efa",
           "#EF553B",
           "#00cc96",
           "#ab63fa",
           "#FFA15A",
           "#19d3f3",
           "#FF6692",
           "#B6E880",
           "#FF97FF",
           "#FECB52"
          ],
          "font": {
           "color": "#f2f5fa"
          },
          "geo": {
           "bgcolor": "rgb(17,17,17)",
           "lakecolor": "rgb(17,17,17)",
           "landcolor": "rgb(17,17,17)",
           "showlakes": true,
           "showland": true,
           "subunitcolor": "#506784"
          },
          "hoverlabel": {
           "align": "left"
          },
          "hovermode": "closest",
          "mapbox": {
           "style": "dark"
          },
          "paper_bgcolor": "rgb(17,17,17)",
          "plot_bgcolor": "rgb(17,17,17)",
          "polar": {
           "angularaxis": {
            "gridcolor": "#506784",
            "linecolor": "#506784",
            "ticks": ""
           },
           "bgcolor": "rgb(17,17,17)",
           "radialaxis": {
            "gridcolor": "#506784",
            "linecolor": "#506784",
            "ticks": ""
           }
          },
          "scene": {
           "xaxis": {
            "backgroundcolor": "rgb(17,17,17)",
            "gridcolor": "#506784",
            "gridwidth": 2,
            "linecolor": "#506784",
            "showbackground": true,
            "ticks": "",
            "zerolinecolor": "#C8D4E3"
           },
           "yaxis": {
            "backgroundcolor": "rgb(17,17,17)",
            "gridcolor": "#506784",
            "gridwidth": 2,
            "linecolor": "#506784",
            "showbackground": true,
            "ticks": "",
            "zerolinecolor": "#C8D4E3"
           },
           "zaxis": {
            "backgroundcolor": "rgb(17,17,17)",
            "gridcolor": "#506784",
            "gridwidth": 2,
            "linecolor": "#506784",
            "showbackground": true,
            "ticks": "",
            "zerolinecolor": "#C8D4E3"
           }
          },
          "shapedefaults": {
           "line": {
            "color": "#f2f5fa"
           }
          },
          "sliderdefaults": {
           "bgcolor": "#C8D4E3",
           "bordercolor": "rgb(17,17,17)",
           "borderwidth": 1,
           "tickwidth": 0
          },
          "ternary": {
           "aaxis": {
            "gridcolor": "#506784",
            "linecolor": "#506784",
            "ticks": ""
           },
           "baxis": {
            "gridcolor": "#506784",
            "linecolor": "#506784",
            "ticks": ""
           },
           "bgcolor": "rgb(17,17,17)",
           "caxis": {
            "gridcolor": "#506784",
            "linecolor": "#506784",
            "ticks": ""
           }
          },
          "title": {
           "x": 0.05
          },
          "updatemenudefaults": {
           "bgcolor": "#506784",
           "borderwidth": 0
          },
          "xaxis": {
           "automargin": true,
           "gridcolor": "#283442",
           "linecolor": "#506784",
           "ticks": "",
           "title": {
            "standoff": 15
           },
           "zerolinecolor": "#283442",
           "zerolinewidth": 2
          },
          "yaxis": {
           "automargin": true,
           "gridcolor": "#283442",
           "linecolor": "#506784",
           "ticks": "",
           "title": {
            "standoff": 15
           },
           "zerolinecolor": "#283442",
           "zerolinewidth": 2
          }
         }
        },
        "title": {
         "text": "Gráfico interactivo: X vs Y"
        },
        "width": 600,
        "xaxis": {
         "anchor": "y",
         "domain": [
          0,
          1
         ],
         "title": {
          "text": "Eje X"
         }
        },
        "yaxis": {
         "anchor": "x",
         "domain": [
          0,
          1
         ],
         "title": {
          "text": "Eje Y"
         }
        }
       }
      }
     },
     "metadata": {},
     "output_type": "display_data"
    }
   ],
   "source": [
    "fig = px.scatter(\n",
    "    df,\n",
    "    x=\"x\", \n",
    "    y=\"y\", \n",
    "    size=\"size\", \n",
    "    color=\"color\",\n",
    "    labels={\"x\":\"Eje X\", \"y\": \"Eje Y\"},\n",
    "    title=\"Gráfico interactivo: X vs Y\",\n",
    "    template=\"plotly_dark\")\n",
    "\n",
    "fig.update_layout(width=600,height=500)\n",
    "fig.show()"
   ]
  },
  {
   "cell_type": "code",
   "execution_count": 46,
   "metadata": {},
   "outputs": [
    {
     "data": {
      "application/vnd.plotly.v1+json": {
       "config": {
        "plotlyServerURL": "https://plot.ly"
       },
       "data": [
        {
         "hovertemplate": "color=B<br>Eje X=%{x}<br>Eje Y=%{y}<br>size=%{marker.size}<extra></extra>",
         "legendgroup": "B",
         "marker": {
          "color": "#636efa",
          "size": [
           14.385002271741376,
           7.326325108846437,
           2.8445997533320333,
           21.259398385167316,
           5.788870514187044,
           18.34425195519163,
           43.880256470986694,
           0.9441266285831862,
           23.66310080152134,
           15.455490217264689,
           5.759333911547637,
           23.383014156523597,
           10.719677541594674,
           33.777073274458225,
           22.99827371228964,
           22.310277690852715,
           33.84479327623315,
           25.143658917710603,
           0.6914354428976033,
           27.666652033482457,
           30.276028578597273,
           14.834727057411785,
           8.769802487737287,
           11.12105676678361,
           9.777928883715663,
           17.066366594264537,
           5.682843002469235,
           39.99970692707308,
           20.61315177442401,
           24.82223796977829,
           26.310515234650957,
           20.397896135841208,
           49.478442095285175,
           31.461125556994073,
           47.33180359397717,
           19.875999926690184
          ],
          "sizemode": "area",
          "sizeref": 0.12394185804511308,
          "symbol": "circle"
         },
         "mode": "markers",
         "name": "B",
         "orientation": "v",
         "showlegend": true,
         "type": "scatter",
         "x": [
          0.1430196820343188,
          0.6622129009772737,
          0.5839041177381455,
          0.2842663408846161,
          0.02603183279683985,
          0.7924372571567728,
          0.8507434206316216,
          0.5840646762431825,
          0.4323484972540844,
          0.7481138834024869,
          0.30899768682872175,
          0.8956401447105508,
          0.49769075628858805,
          0.996368503336076,
          0.6743564865526478,
          0.0408635050756192,
          0.591756399161972,
          0.06199394690702087,
          0.7856247609427748,
          0.4271383360482992,
          0.631963993596069,
          0.4650197905072988,
          0.3970074342703205,
          0.5432895315916048,
          0.8394969192190775,
          0.03278691297640535,
          0.089284585781371,
          0.9813785230790694,
          0.1181319827659727,
          0.03213584698892846,
          0.8835231163452475,
          0.6581265157942516,
          0.01391246216785269,
          0.874941110841776,
          0.40048098893428474,
          0.2633450159639472
         ],
         "xaxis": "x",
         "y": [
          0.5221614059264539,
          0.9294266346422602,
          0.26465447746168436,
          0.2943617702887016,
          0.6255449760820279,
          0.19281541959136483,
          0.3901013118193952,
          0.056718781535746055,
          0.7894969145860791,
          0.4120012428452702,
          0.42503025687364704,
          0.6789909504688761,
          0.6037243456233873,
          0.9561531424152206,
          0.6307204737705312,
          0.8139655229296499,
          0.9731333141615943,
          0.17653269918526282,
          0.8371531424031837,
          0.3500915594517079,
          0.7127022190006672,
          0.19827773874182297,
          0.4220652542506894,
          0.8896076759717798,
          0.2766181392450593,
          0.5548360131902647,
          0.33119418176027404,
          0.8419318993829404,
          0.8076199433105309,
          0.49509967847484015,
          0.1807890912311101,
          0.1547110203887091,
          0.5643555148730339,
          0.002987475892162972,
          0.23584942211447024,
          0.8824466147349312
         ],
         "yaxis": "y"
        },
        {
         "hovertemplate": "color=C<br>Eje X=%{x}<br>Eje Y=%{y}<br>size=%{marker.size}<extra></extra>",
         "legendgroup": "C",
         "marker": {
          "color": "#EF553B",
          "size": [
           38.374123716225625,
           23.347979907913924,
           7.38039705399825,
           34.836791170303364,
           26.696071493797273,
           16.816592541138508,
           13.219755315638743,
           40.39762505756937,
           2.440615886939673,
           12.873123358686339,
           39.56754418994473,
           25.497382040804172,
           18.07025665029088,
           17.728297306291722,
           31.3818544710397,
           1.6264398342396513,
           49.57674321804523,
           45.83673213522091,
           36.559567113657536,
           35.52968638584962,
           43.435210301199554,
           28.15051376413622,
           29.834471117836458,
           22.42425618505776,
           20.85770127486894,
           44.43258135753528,
           35.999309029686344,
           47.811978841374284,
           15.857209062737315,
           10.635304643660664,
           2.903380847835141,
           4.019959655836608,
           10.145368616592387
          ],
          "sizemode": "area",
          "sizeref": 0.12394185804511308,
          "symbol": "circle"
         },
         "mode": "markers",
         "name": "C",
         "orientation": "v",
         "showlegend": true,
         "type": "scatter",
         "x": [
          0.3444225041779322,
          0.626120122193187,
          0.8315056673777875,
          0.5197784438114412,
          0.03839491018330654,
          0.5636647406058045,
          0.680464076755989,
          0.0897008649315727,
          0.8844132626585708,
          0.4924753303471924,
          0.8202202952379444,
          0.7675162125923336,
          0.06781042349473898,
          0.19676576193195405,
          0.8982833283086411,
          0.013170688793591179,
          0.7303892756082505,
          0.7741416407136673,
          0.15810881108255426,
          0.39949121117440733,
          0.906764427771221,
          0.576494182361824,
          0.37572003789855557,
          0.3825268162407346,
          0.9844886538883002,
          0.10541463823424768,
          0.5352208002683665,
          0.2834894510585224,
          0.4500237624805571,
          0.2490340072883569,
          0.2744496641890738,
          0.8321398043205214,
          0.9282390504462679
         ],
         "xaxis": "x",
         "y": [
          0.6031291193063929,
          0.9376419703459287,
          0.4284804530164785,
          0.4091364017239102,
          0.4621359591428831,
          0.4538854232400642,
          0.45398557299712483,
          0.452111983797442,
          0.015015741567837693,
          0.36608014171481873,
          0.866014725316295,
          0.5440942425616584,
          0.861158350521399,
          0.9813999718791175,
          0.40838451991440194,
          0.030631900627945297,
          0.07103945858906746,
          0.42168783336299986,
          0.3849890336826458,
          0.01751263665863878,
          0.14866440677721748,
          0.7734703864893424,
          0.43509957597918725,
          0.542247990487856,
          0.009169270877242064,
          0.8259893826669914,
          0.30299169183710006,
          0.19427107850365288,
          0.8391365113673297,
          0.32547541641260835,
          0.3546311392600966,
          0.2658472688743555,
          0.6222198298757953
         ],
         "yaxis": "y"
        },
        {
         "hovertemplate": "color=A<br>Eje X=%{x}<br>Eje Y=%{y}<br>size=%{marker.size}<extra></extra>",
         "legendgroup": "A",
         "marker": {
          "color": "#00cc96",
          "size": [
           26.122214832463914,
           40.30553555496908,
           2.765213952255591,
           5.376533384136412,
           9.017997619476464,
           17.7304038212823,
           26.30419508091103,
           18.418422846495265,
           18.16690987565956,
           5.165736400470222,
           29.36842164268002,
           13.575899416396474,
           5.33381175651117,
           35.92088049356989,
           15.409789023629738,
           43.83630277161796,
           22.745305808823524,
           26.971051693240085,
           0.6915555256480466,
           46.45131718873522,
           33.608659535019115,
           13.672391143830186,
           47.11506950057544,
           19.45966661193157,
           36.35809178132251,
           27.931084773863546,
           20.0647701744646,
           30.96663170495354,
           28.27334905692467,
           19.275311502844882,
           38.07473185463696
          ],
          "sizemode": "area",
          "sizeref": 0.12394185804511308,
          "symbol": "circle"
         },
         "mode": "markers",
         "name": "A",
         "orientation": "v",
         "showlegend": true,
         "type": "scatter",
         "x": [
          0.7599974615487279,
          0.8414777000373161,
          0.6999214622637282,
          0.15695198836819912,
          0.5968425518823314,
          0.7152621756592722,
          0.15901798046123816,
          0.04470484894383486,
          0.2384484271547369,
          0.3803939336960579,
          0.26380263304535456,
          0.6015948901842855,
          0.17054266280456998,
          0.1650176200163347,
          0.6713448336577508,
          0.9097507614951456,
          0.5769835354367396,
          0.15326805689762024,
          0.20834487980784688,
          0.24459350686377057,
          0.5455036752526,
          0.3990576033965866,
          0.74543331042619,
          0.48640982411828637,
          0.9143123773297638,
          0.02538170693923103,
          0.29296265911619257,
          0.793979334112016,
          0.44859472517072774,
          0.3190664406424114,
          0.8533524606442261
         ],
         "xaxis": "x",
         "y": [
          0.6913929361883875,
          0.930051030445409,
          0.5391513019996521,
          0.9506035187208466,
          0.2377425491340398,
          0.3776844362916687,
          0.75645547966347,
          0.13497639059411426,
          0.18055591574472807,
          0.4068373613310229,
          0.449968815226264,
          0.45490298163223375,
          0.49703358049368784,
          0.28355323666473,
          0.2341018886821694,
          0.7339617304761026,
          0.30711741436624695,
          0.06807162345097151,
          0.16655469730814543,
          0.05723155055152451,
          0.5729810598804728,
          0.8288756087741327,
          0.8238848576150949,
          0.0940396647152717,
          0.7404946485542855,
          0.23143911298219955,
          0.15031690152655552,
          0.06769812067534087,
          0.6412647635764068,
          0.6655739813648414,
          0.8331471122640776
         ],
         "yaxis": "y"
        }
       ],
       "layout": {
        "height": 500,
        "legend": {
         "itemsizing": "constant",
         "title": {
          "text": "color"
         },
         "tracegroupgap": 0
        },
        "template": {
         "data": {
          "bar": [
           {
            "error_x": {
             "color": "#f2f5fa"
            },
            "error_y": {
             "color": "#f2f5fa"
            },
            "marker": {
             "line": {
              "color": "rgb(17,17,17)",
              "width": 0.5
             },
             "pattern": {
              "fillmode": "overlay",
              "size": 10,
              "solidity": 0.2
             }
            },
            "type": "bar"
           }
          ],
          "barpolar": [
           {
            "marker": {
             "line": {
              "color": "rgb(17,17,17)",
              "width": 0.5
             },
             "pattern": {
              "fillmode": "overlay",
              "size": 10,
              "solidity": 0.2
             }
            },
            "type": "barpolar"
           }
          ],
          "carpet": [
           {
            "aaxis": {
             "endlinecolor": "#A2B1C6",
             "gridcolor": "#506784",
             "linecolor": "#506784",
             "minorgridcolor": "#506784",
             "startlinecolor": "#A2B1C6"
            },
            "baxis": {
             "endlinecolor": "#A2B1C6",
             "gridcolor": "#506784",
             "linecolor": "#506784",
             "minorgridcolor": "#506784",
             "startlinecolor": "#A2B1C6"
            },
            "type": "carpet"
           }
          ],
          "choropleth": [
           {
            "colorbar": {
             "outlinewidth": 0,
             "ticks": ""
            },
            "type": "choropleth"
           }
          ],
          "contour": [
           {
            "colorbar": {
             "outlinewidth": 0,
             "ticks": ""
            },
            "colorscale": [
             [
              0,
              "#0d0887"
             ],
             [
              0.1111111111111111,
              "#46039f"
             ],
             [
              0.2222222222222222,
              "#7201a8"
             ],
             [
              0.3333333333333333,
              "#9c179e"
             ],
             [
              0.4444444444444444,
              "#bd3786"
             ],
             [
              0.5555555555555556,
              "#d8576b"
             ],
             [
              0.6666666666666666,
              "#ed7953"
             ],
             [
              0.7777777777777778,
              "#fb9f3a"
             ],
             [
              0.8888888888888888,
              "#fdca26"
             ],
             [
              1,
              "#f0f921"
             ]
            ],
            "type": "contour"
           }
          ],
          "contourcarpet": [
           {
            "colorbar": {
             "outlinewidth": 0,
             "ticks": ""
            },
            "type": "contourcarpet"
           }
          ],
          "heatmap": [
           {
            "colorbar": {
             "outlinewidth": 0,
             "ticks": ""
            },
            "colorscale": [
             [
              0,
              "#0d0887"
             ],
             [
              0.1111111111111111,
              "#46039f"
             ],
             [
              0.2222222222222222,
              "#7201a8"
             ],
             [
              0.3333333333333333,
              "#9c179e"
             ],
             [
              0.4444444444444444,
              "#bd3786"
             ],
             [
              0.5555555555555556,
              "#d8576b"
             ],
             [
              0.6666666666666666,
              "#ed7953"
             ],
             [
              0.7777777777777778,
              "#fb9f3a"
             ],
             [
              0.8888888888888888,
              "#fdca26"
             ],
             [
              1,
              "#f0f921"
             ]
            ],
            "type": "heatmap"
           }
          ],
          "heatmapgl": [
           {
            "colorbar": {
             "outlinewidth": 0,
             "ticks": ""
            },
            "colorscale": [
             [
              0,
              "#0d0887"
             ],
             [
              0.1111111111111111,
              "#46039f"
             ],
             [
              0.2222222222222222,
              "#7201a8"
             ],
             [
              0.3333333333333333,
              "#9c179e"
             ],
             [
              0.4444444444444444,
              "#bd3786"
             ],
             [
              0.5555555555555556,
              "#d8576b"
             ],
             [
              0.6666666666666666,
              "#ed7953"
             ],
             [
              0.7777777777777778,
              "#fb9f3a"
             ],
             [
              0.8888888888888888,
              "#fdca26"
             ],
             [
              1,
              "#f0f921"
             ]
            ],
            "type": "heatmapgl"
           }
          ],
          "histogram": [
           {
            "marker": {
             "pattern": {
              "fillmode": "overlay",
              "size": 10,
              "solidity": 0.2
             }
            },
            "type": "histogram"
           }
          ],
          "histogram2d": [
           {
            "colorbar": {
             "outlinewidth": 0,
             "ticks": ""
            },
            "colorscale": [
             [
              0,
              "#0d0887"
             ],
             [
              0.1111111111111111,
              "#46039f"
             ],
             [
              0.2222222222222222,
              "#7201a8"
             ],
             [
              0.3333333333333333,
              "#9c179e"
             ],
             [
              0.4444444444444444,
              "#bd3786"
             ],
             [
              0.5555555555555556,
              "#d8576b"
             ],
             [
              0.6666666666666666,
              "#ed7953"
             ],
             [
              0.7777777777777778,
              "#fb9f3a"
             ],
             [
              0.8888888888888888,
              "#fdca26"
             ],
             [
              1,
              "#f0f921"
             ]
            ],
            "type": "histogram2d"
           }
          ],
          "histogram2dcontour": [
           {
            "colorbar": {
             "outlinewidth": 0,
             "ticks": ""
            },
            "colorscale": [
             [
              0,
              "#0d0887"
             ],
             [
              0.1111111111111111,
              "#46039f"
             ],
             [
              0.2222222222222222,
              "#7201a8"
             ],
             [
              0.3333333333333333,
              "#9c179e"
             ],
             [
              0.4444444444444444,
              "#bd3786"
             ],
             [
              0.5555555555555556,
              "#d8576b"
             ],
             [
              0.6666666666666666,
              "#ed7953"
             ],
             [
              0.7777777777777778,
              "#fb9f3a"
             ],
             [
              0.8888888888888888,
              "#fdca26"
             ],
             [
              1,
              "#f0f921"
             ]
            ],
            "type": "histogram2dcontour"
           }
          ],
          "mesh3d": [
           {
            "colorbar": {
             "outlinewidth": 0,
             "ticks": ""
            },
            "type": "mesh3d"
           }
          ],
          "parcoords": [
           {
            "line": {
             "colorbar": {
              "outlinewidth": 0,
              "ticks": ""
             }
            },
            "type": "parcoords"
           }
          ],
          "pie": [
           {
            "automargin": true,
            "type": "pie"
           }
          ],
          "scatter": [
           {
            "marker": {
             "line": {
              "color": "#283442"
             }
            },
            "type": "scatter"
           }
          ],
          "scatter3d": [
           {
            "line": {
             "colorbar": {
              "outlinewidth": 0,
              "ticks": ""
             }
            },
            "marker": {
             "colorbar": {
              "outlinewidth": 0,
              "ticks": ""
             }
            },
            "type": "scatter3d"
           }
          ],
          "scattercarpet": [
           {
            "marker": {
             "colorbar": {
              "outlinewidth": 0,
              "ticks": ""
             }
            },
            "type": "scattercarpet"
           }
          ],
          "scattergeo": [
           {
            "marker": {
             "colorbar": {
              "outlinewidth": 0,
              "ticks": ""
             }
            },
            "type": "scattergeo"
           }
          ],
          "scattergl": [
           {
            "marker": {
             "line": {
              "color": "#283442"
             }
            },
            "type": "scattergl"
           }
          ],
          "scattermapbox": [
           {
            "marker": {
             "colorbar": {
              "outlinewidth": 0,
              "ticks": ""
             }
            },
            "type": "scattermapbox"
           }
          ],
          "scatterpolar": [
           {
            "marker": {
             "colorbar": {
              "outlinewidth": 0,
              "ticks": ""
             }
            },
            "type": "scatterpolar"
           }
          ],
          "scatterpolargl": [
           {
            "marker": {
             "colorbar": {
              "outlinewidth": 0,
              "ticks": ""
             }
            },
            "type": "scatterpolargl"
           }
          ],
          "scatterternary": [
           {
            "marker": {
             "colorbar": {
              "outlinewidth": 0,
              "ticks": ""
             }
            },
            "type": "scatterternary"
           }
          ],
          "surface": [
           {
            "colorbar": {
             "outlinewidth": 0,
             "ticks": ""
            },
            "colorscale": [
             [
              0,
              "#0d0887"
             ],
             [
              0.1111111111111111,
              "#46039f"
             ],
             [
              0.2222222222222222,
              "#7201a8"
             ],
             [
              0.3333333333333333,
              "#9c179e"
             ],
             [
              0.4444444444444444,
              "#bd3786"
             ],
             [
              0.5555555555555556,
              "#d8576b"
             ],
             [
              0.6666666666666666,
              "#ed7953"
             ],
             [
              0.7777777777777778,
              "#fb9f3a"
             ],
             [
              0.8888888888888888,
              "#fdca26"
             ],
             [
              1,
              "#f0f921"
             ]
            ],
            "type": "surface"
           }
          ],
          "table": [
           {
            "cells": {
             "fill": {
              "color": "#506784"
             },
             "line": {
              "color": "rgb(17,17,17)"
             }
            },
            "header": {
             "fill": {
              "color": "#2a3f5f"
             },
             "line": {
              "color": "rgb(17,17,17)"
             }
            },
            "type": "table"
           }
          ]
         },
         "layout": {
          "annotationdefaults": {
           "arrowcolor": "#f2f5fa",
           "arrowhead": 0,
           "arrowwidth": 1
          },
          "autotypenumbers": "strict",
          "coloraxis": {
           "colorbar": {
            "outlinewidth": 0,
            "ticks": ""
           }
          },
          "colorscale": {
           "diverging": [
            [
             0,
             "#8e0152"
            ],
            [
             0.1,
             "#c51b7d"
            ],
            [
             0.2,
             "#de77ae"
            ],
            [
             0.3,
             "#f1b6da"
            ],
            [
             0.4,
             "#fde0ef"
            ],
            [
             0.5,
             "#f7f7f7"
            ],
            [
             0.6,
             "#e6f5d0"
            ],
            [
             0.7,
             "#b8e186"
            ],
            [
             0.8,
             "#7fbc41"
            ],
            [
             0.9,
             "#4d9221"
            ],
            [
             1,
             "#276419"
            ]
           ],
           "sequential": [
            [
             0,
             "#0d0887"
            ],
            [
             0.1111111111111111,
             "#46039f"
            ],
            [
             0.2222222222222222,
             "#7201a8"
            ],
            [
             0.3333333333333333,
             "#9c179e"
            ],
            [
             0.4444444444444444,
             "#bd3786"
            ],
            [
             0.5555555555555556,
             "#d8576b"
            ],
            [
             0.6666666666666666,
             "#ed7953"
            ],
            [
             0.7777777777777778,
             "#fb9f3a"
            ],
            [
             0.8888888888888888,
             "#fdca26"
            ],
            [
             1,
             "#f0f921"
            ]
           ],
           "sequentialminus": [
            [
             0,
             "#0d0887"
            ],
            [
             0.1111111111111111,
             "#46039f"
            ],
            [
             0.2222222222222222,
             "#7201a8"
            ],
            [
             0.3333333333333333,
             "#9c179e"
            ],
            [
             0.4444444444444444,
             "#bd3786"
            ],
            [
             0.5555555555555556,
             "#d8576b"
            ],
            [
             0.6666666666666666,
             "#ed7953"
            ],
            [
             0.7777777777777778,
             "#fb9f3a"
            ],
            [
             0.8888888888888888,
             "#fdca26"
            ],
            [
             1,
             "#f0f921"
            ]
           ]
          },
          "colorway": [
           "#636efa",
           "#EF553B",
           "#00cc96",
           "#ab63fa",
           "#FFA15A",
           "#19d3f3",
           "#FF6692",
           "#B6E880",
           "#FF97FF",
           "#FECB52"
          ],
          "font": {
           "color": "#f2f5fa"
          },
          "geo": {
           "bgcolor": "rgb(17,17,17)",
           "lakecolor": "rgb(17,17,17)",
           "landcolor": "rgb(17,17,17)",
           "showlakes": true,
           "showland": true,
           "subunitcolor": "#506784"
          },
          "hoverlabel": {
           "align": "left"
          },
          "hovermode": "closest",
          "mapbox": {
           "style": "dark"
          },
          "paper_bgcolor": "rgb(17,17,17)",
          "plot_bgcolor": "rgb(17,17,17)",
          "polar": {
           "angularaxis": {
            "gridcolor": "#506784",
            "linecolor": "#506784",
            "ticks": ""
           },
           "bgcolor": "rgb(17,17,17)",
           "radialaxis": {
            "gridcolor": "#506784",
            "linecolor": "#506784",
            "ticks": ""
           }
          },
          "scene": {
           "xaxis": {
            "backgroundcolor": "rgb(17,17,17)",
            "gridcolor": "#506784",
            "gridwidth": 2,
            "linecolor": "#506784",
            "showbackground": true,
            "ticks": "",
            "zerolinecolor": "#C8D4E3"
           },
           "yaxis": {
            "backgroundcolor": "rgb(17,17,17)",
            "gridcolor": "#506784",
            "gridwidth": 2,
            "linecolor": "#506784",
            "showbackground": true,
            "ticks": "",
            "zerolinecolor": "#C8D4E3"
           },
           "zaxis": {
            "backgroundcolor": "rgb(17,17,17)",
            "gridcolor": "#506784",
            "gridwidth": 2,
            "linecolor": "#506784",
            "showbackground": true,
            "ticks": "",
            "zerolinecolor": "#C8D4E3"
           }
          },
          "shapedefaults": {
           "line": {
            "color": "#f2f5fa"
           }
          },
          "sliderdefaults": {
           "bgcolor": "#C8D4E3",
           "bordercolor": "rgb(17,17,17)",
           "borderwidth": 1,
           "tickwidth": 0
          },
          "ternary": {
           "aaxis": {
            "gridcolor": "#506784",
            "linecolor": "#506784",
            "ticks": ""
           },
           "baxis": {
            "gridcolor": "#506784",
            "linecolor": "#506784",
            "ticks": ""
           },
           "bgcolor": "rgb(17,17,17)",
           "caxis": {
            "gridcolor": "#506784",
            "linecolor": "#506784",
            "ticks": ""
           }
          },
          "title": {
           "x": 0.05
          },
          "updatemenudefaults": {
           "bgcolor": "#506784",
           "borderwidth": 0
          },
          "xaxis": {
           "automargin": true,
           "gridcolor": "#283442",
           "linecolor": "#506784",
           "ticks": "",
           "title": {
            "standoff": 15
           },
           "zerolinecolor": "#283442",
           "zerolinewidth": 2
          },
          "yaxis": {
           "automargin": true,
           "gridcolor": "#283442",
           "linecolor": "#506784",
           "ticks": "",
           "title": {
            "standoff": 15
           },
           "zerolinecolor": "#283442",
           "zerolinewidth": 2
          }
         }
        },
        "title": {
         "text": "Gráfico Interactivo: Dispersión"
        },
        "width": 800,
        "xaxis": {
         "anchor": "y",
         "domain": [
          0,
          1
         ],
         "title": {
          "text": "Eje X"
         }
        },
        "yaxis": {
         "anchor": "x",
         "domain": [
          0,
          1
         ],
         "title": {
          "text": "Eje Y"
         }
        }
       }
      }
     },
     "metadata": {},
     "output_type": "display_data"
    }
   ],
   "source": [
    "import plotly.express as px\n",
    "import pandas as pd\n",
    "\n",
    "# Datos simulados\n",
    "df = pd.DataFrame({\n",
    "    'x': np.random.rand(100),\n",
    "    'y': np.random.rand(100),\n",
    "    'size': np.random.rand(100) * 50,\n",
    "    'color': np.random.choice(['A', 'B', 'C'], 100)\n",
    "})\n",
    "\n",
    "# Crear gráfico interactivo\n",
    "fig = px.scatter(\n",
    "    df, x='x', y='y', size='size', color='color',\n",
    "    title='Gráfico Interactivo: Dispersión',\n",
    "    labels={'x': 'Eje X', 'y': 'Eje Y'},\n",
    "    template='plotly_dark'\n",
    ")\n",
    "\n",
    "fig.update_layout(width=800, height=500)\n",
    "fig.show()"
   ]
  },
  {
   "cell_type": "code",
   "execution_count": 48,
   "metadata": {},
   "outputs": [
    {
     "data": {
      "application/vnd.plotly.v1+json": {
       "config": {
        "plotlyServerURL": "https://plot.ly"
       },
       "data": [
        {
         "alignmentgroup": "True",
         "hovertemplate": "Categorías=%{x}<br>Frecuencia=%{y}<extra></extra>",
         "legendgroup": "",
         "marker": {
          "color": "#F8766D",
          "pattern": {
           "shape": ""
          }
         },
         "name": "",
         "offsetgroup": "",
         "orientation": "v",
         "showlegend": false,
         "textposition": "auto",
         "type": "bar",
         "x": [
          "A",
          "B",
          "C",
          "D",
          "E"
         ],
         "xaxis": "x",
         "y": [
          10,
          15,
          7,
          12,
          9
         ],
         "yaxis": "y"
        }
       ],
       "layout": {
        "barmode": "relative",
        "height": 500,
        "legend": {
         "tracegroupgap": 0
        },
        "template": {
         "data": {
          "bar": [
           {
            "error_x": {
             "color": "rgb(51,51,51)"
            },
            "error_y": {
             "color": "rgb(51,51,51)"
            },
            "marker": {
             "line": {
              "color": "rgb(237,237,237)",
              "width": 0.5
             },
             "pattern": {
              "fillmode": "overlay",
              "size": 10,
              "solidity": 0.2
             }
            },
            "type": "bar"
           }
          ],
          "barpolar": [
           {
            "marker": {
             "line": {
              "color": "rgb(237,237,237)",
              "width": 0.5
             },
             "pattern": {
              "fillmode": "overlay",
              "size": 10,
              "solidity": 0.2
             }
            },
            "type": "barpolar"
           }
          ],
          "carpet": [
           {
            "aaxis": {
             "endlinecolor": "rgb(51,51,51)",
             "gridcolor": "white",
             "linecolor": "white",
             "minorgridcolor": "white",
             "startlinecolor": "rgb(51,51,51)"
            },
            "baxis": {
             "endlinecolor": "rgb(51,51,51)",
             "gridcolor": "white",
             "linecolor": "white",
             "minorgridcolor": "white",
             "startlinecolor": "rgb(51,51,51)"
            },
            "type": "carpet"
           }
          ],
          "choropleth": [
           {
            "colorbar": {
             "outlinewidth": 0,
             "tickcolor": "rgb(237,237,237)",
             "ticklen": 6,
             "ticks": "inside"
            },
            "type": "choropleth"
           }
          ],
          "contour": [
           {
            "colorbar": {
             "outlinewidth": 0,
             "tickcolor": "rgb(237,237,237)",
             "ticklen": 6,
             "ticks": "inside"
            },
            "colorscale": [
             [
              0,
              "rgb(20,44,66)"
             ],
             [
              1,
              "rgb(90,179,244)"
             ]
            ],
            "type": "contour"
           }
          ],
          "contourcarpet": [
           {
            "colorbar": {
             "outlinewidth": 0,
             "tickcolor": "rgb(237,237,237)",
             "ticklen": 6,
             "ticks": "inside"
            },
            "type": "contourcarpet"
           }
          ],
          "heatmap": [
           {
            "colorbar": {
             "outlinewidth": 0,
             "tickcolor": "rgb(237,237,237)",
             "ticklen": 6,
             "ticks": "inside"
            },
            "colorscale": [
             [
              0,
              "rgb(20,44,66)"
             ],
             [
              1,
              "rgb(90,179,244)"
             ]
            ],
            "type": "heatmap"
           }
          ],
          "heatmapgl": [
           {
            "colorbar": {
             "outlinewidth": 0,
             "tickcolor": "rgb(237,237,237)",
             "ticklen": 6,
             "ticks": "inside"
            },
            "colorscale": [
             [
              0,
              "rgb(20,44,66)"
             ],
             [
              1,
              "rgb(90,179,244)"
             ]
            ],
            "type": "heatmapgl"
           }
          ],
          "histogram": [
           {
            "marker": {
             "pattern": {
              "fillmode": "overlay",
              "size": 10,
              "solidity": 0.2
             }
            },
            "type": "histogram"
           }
          ],
          "histogram2d": [
           {
            "colorbar": {
             "outlinewidth": 0,
             "tickcolor": "rgb(237,237,237)",
             "ticklen": 6,
             "ticks": "inside"
            },
            "colorscale": [
             [
              0,
              "rgb(20,44,66)"
             ],
             [
              1,
              "rgb(90,179,244)"
             ]
            ],
            "type": "histogram2d"
           }
          ],
          "histogram2dcontour": [
           {
            "colorbar": {
             "outlinewidth": 0,
             "tickcolor": "rgb(237,237,237)",
             "ticklen": 6,
             "ticks": "inside"
            },
            "colorscale": [
             [
              0,
              "rgb(20,44,66)"
             ],
             [
              1,
              "rgb(90,179,244)"
             ]
            ],
            "type": "histogram2dcontour"
           }
          ],
          "mesh3d": [
           {
            "colorbar": {
             "outlinewidth": 0,
             "tickcolor": "rgb(237,237,237)",
             "ticklen": 6,
             "ticks": "inside"
            },
            "type": "mesh3d"
           }
          ],
          "parcoords": [
           {
            "line": {
             "colorbar": {
              "outlinewidth": 0,
              "tickcolor": "rgb(237,237,237)",
              "ticklen": 6,
              "ticks": "inside"
             }
            },
            "type": "parcoords"
           }
          ],
          "pie": [
           {
            "automargin": true,
            "type": "pie"
           }
          ],
          "scatter": [
           {
            "fillpattern": {
             "fillmode": "overlay",
             "size": 10,
             "solidity": 0.2
            },
            "type": "scatter"
           }
          ],
          "scatter3d": [
           {
            "line": {
             "colorbar": {
              "outlinewidth": 0,
              "tickcolor": "rgb(237,237,237)",
              "ticklen": 6,
              "ticks": "inside"
             }
            },
            "marker": {
             "colorbar": {
              "outlinewidth": 0,
              "tickcolor": "rgb(237,237,237)",
              "ticklen": 6,
              "ticks": "inside"
             }
            },
            "type": "scatter3d"
           }
          ],
          "scattercarpet": [
           {
            "marker": {
             "colorbar": {
              "outlinewidth": 0,
              "tickcolor": "rgb(237,237,237)",
              "ticklen": 6,
              "ticks": "inside"
             }
            },
            "type": "scattercarpet"
           }
          ],
          "scattergeo": [
           {
            "marker": {
             "colorbar": {
              "outlinewidth": 0,
              "tickcolor": "rgb(237,237,237)",
              "ticklen": 6,
              "ticks": "inside"
             }
            },
            "type": "scattergeo"
           }
          ],
          "scattergl": [
           {
            "marker": {
             "colorbar": {
              "outlinewidth": 0,
              "tickcolor": "rgb(237,237,237)",
              "ticklen": 6,
              "ticks": "inside"
             }
            },
            "type": "scattergl"
           }
          ],
          "scattermapbox": [
           {
            "marker": {
             "colorbar": {
              "outlinewidth": 0,
              "tickcolor": "rgb(237,237,237)",
              "ticklen": 6,
              "ticks": "inside"
             }
            },
            "type": "scattermapbox"
           }
          ],
          "scatterpolar": [
           {
            "marker": {
             "colorbar": {
              "outlinewidth": 0,
              "tickcolor": "rgb(237,237,237)",
              "ticklen": 6,
              "ticks": "inside"
             }
            },
            "type": "scatterpolar"
           }
          ],
          "scatterpolargl": [
           {
            "marker": {
             "colorbar": {
              "outlinewidth": 0,
              "tickcolor": "rgb(237,237,237)",
              "ticklen": 6,
              "ticks": "inside"
             }
            },
            "type": "scatterpolargl"
           }
          ],
          "scatterternary": [
           {
            "marker": {
             "colorbar": {
              "outlinewidth": 0,
              "tickcolor": "rgb(237,237,237)",
              "ticklen": 6,
              "ticks": "inside"
             }
            },
            "type": "scatterternary"
           }
          ],
          "surface": [
           {
            "colorbar": {
             "outlinewidth": 0,
             "tickcolor": "rgb(237,237,237)",
             "ticklen": 6,
             "ticks": "inside"
            },
            "colorscale": [
             [
              0,
              "rgb(20,44,66)"
             ],
             [
              1,
              "rgb(90,179,244)"
             ]
            ],
            "type": "surface"
           }
          ],
          "table": [
           {
            "cells": {
             "fill": {
              "color": "rgb(237,237,237)"
             },
             "line": {
              "color": "white"
             }
            },
            "header": {
             "fill": {
              "color": "rgb(217,217,217)"
             },
             "line": {
              "color": "white"
             }
            },
            "type": "table"
           }
          ]
         },
         "layout": {
          "annotationdefaults": {
           "arrowhead": 0,
           "arrowwidth": 1
          },
          "autotypenumbers": "strict",
          "coloraxis": {
           "colorbar": {
            "outlinewidth": 0,
            "tickcolor": "rgb(237,237,237)",
            "ticklen": 6,
            "ticks": "inside"
           }
          },
          "colorscale": {
           "sequential": [
            [
             0,
             "rgb(20,44,66)"
            ],
            [
             1,
             "rgb(90,179,244)"
            ]
           ],
           "sequentialminus": [
            [
             0,
             "rgb(20,44,66)"
            ],
            [
             1,
             "rgb(90,179,244)"
            ]
           ]
          },
          "colorway": [
           "#F8766D",
           "#A3A500",
           "#00BF7D",
           "#00B0F6",
           "#E76BF3"
          ],
          "font": {
           "color": "rgb(51,51,51)"
          },
          "geo": {
           "bgcolor": "white",
           "lakecolor": "white",
           "landcolor": "rgb(237,237,237)",
           "showlakes": true,
           "showland": true,
           "subunitcolor": "white"
          },
          "hoverlabel": {
           "align": "left"
          },
          "hovermode": "closest",
          "paper_bgcolor": "white",
          "plot_bgcolor": "rgb(237,237,237)",
          "polar": {
           "angularaxis": {
            "gridcolor": "white",
            "linecolor": "white",
            "showgrid": true,
            "tickcolor": "rgb(51,51,51)",
            "ticks": "outside"
           },
           "bgcolor": "rgb(237,237,237)",
           "radialaxis": {
            "gridcolor": "white",
            "linecolor": "white",
            "showgrid": true,
            "tickcolor": "rgb(51,51,51)",
            "ticks": "outside"
           }
          },
          "scene": {
           "xaxis": {
            "backgroundcolor": "rgb(237,237,237)",
            "gridcolor": "white",
            "gridwidth": 2,
            "linecolor": "white",
            "showbackground": true,
            "showgrid": true,
            "tickcolor": "rgb(51,51,51)",
            "ticks": "outside",
            "zerolinecolor": "white"
           },
           "yaxis": {
            "backgroundcolor": "rgb(237,237,237)",
            "gridcolor": "white",
            "gridwidth": 2,
            "linecolor": "white",
            "showbackground": true,
            "showgrid": true,
            "tickcolor": "rgb(51,51,51)",
            "ticks": "outside",
            "zerolinecolor": "white"
           },
           "zaxis": {
            "backgroundcolor": "rgb(237,237,237)",
            "gridcolor": "white",
            "gridwidth": 2,
            "linecolor": "white",
            "showbackground": true,
            "showgrid": true,
            "tickcolor": "rgb(51,51,51)",
            "ticks": "outside",
            "zerolinecolor": "white"
           }
          },
          "shapedefaults": {
           "fillcolor": "black",
           "line": {
            "width": 0
           },
           "opacity": 0.3
          },
          "ternary": {
           "aaxis": {
            "gridcolor": "white",
            "linecolor": "white",
            "showgrid": true,
            "tickcolor": "rgb(51,51,51)",
            "ticks": "outside"
           },
           "baxis": {
            "gridcolor": "white",
            "linecolor": "white",
            "showgrid": true,
            "tickcolor": "rgb(51,51,51)",
            "ticks": "outside"
           },
           "bgcolor": "rgb(237,237,237)",
           "caxis": {
            "gridcolor": "white",
            "linecolor": "white",
            "showgrid": true,
            "tickcolor": "rgb(51,51,51)",
            "ticks": "outside"
           }
          },
          "xaxis": {
           "automargin": true,
           "gridcolor": "white",
           "linecolor": "white",
           "showgrid": true,
           "tickcolor": "rgb(51,51,51)",
           "ticks": "outside",
           "title": {
            "standoff": 15
           },
           "zerolinecolor": "white"
          },
          "yaxis": {
           "automargin": true,
           "gridcolor": "white",
           "linecolor": "white",
           "showgrid": true,
           "tickcolor": "rgb(51,51,51)",
           "ticks": "outside",
           "title": {
            "standoff": 15
           },
           "zerolinecolor": "white"
          }
         }
        },
        "title": {
         "text": "Gráfico Interactivo: Barras"
        },
        "width": 600,
        "xaxis": {
         "anchor": "y",
         "domain": [
          0,
          1
         ],
         "title": {
          "text": "Categorías"
         }
        },
        "yaxis": {
         "anchor": "x",
         "domain": [
          0,
          1
         ],
         "title": {
          "text": "Frecuencia"
         }
        }
       }
      }
     },
     "metadata": {},
     "output_type": "display_data"
    }
   ],
   "source": [
    "# Datos\n",
    "data = pd.DataFrame({\n",
    "    'Categoría': ['A', 'B', 'C', 'D', 'E'],\n",
    "    'Valor': [10, 15, 7, 12, 9]\n",
    "})\n",
    "\n",
    "# Crear gráfico interactivo con ajustes de tamaño\n",
    "fig = px.bar(\n",
    "    data, x='Categoría', y='Valor',\n",
    "    title='Gráfico Interactivo: Barras',\n",
    "    labels={'Valor': 'Frecuencia', 'Categoría': 'Categorías'},\n",
    "    template='ggplot2'\n",
    ")\n",
    "\n",
    "# Ajustar tamaño\n",
    "fig.update_layout(width=600, height=500)\n",
    "fig.show()\n"
   ]
  },
  {
   "cell_type": "markdown",
   "metadata": {},
   "source": [
    "### **Vamos a la cancha**"
   ]
  },
  {
   "cell_type": "markdown",
   "metadata": {},
   "source": [
    "> [*\"El Perú es uno de los países menos honestos, según estudio internacional\"*](https://elcomercio.pe/economia/peru/investigadores-pierden-17-000-carteras-mundo-son-devueltas-noticia-647885-noticia/)\n",
    "\n",
    "Data: https://dataverse.harvard.edu/dataset.xhtml?persistentId=doi:10.7910/DVN/YKBODN"
   ]
  },
  {
   "cell_type": "markdown",
   "metadata": {},
   "source": [
    "Un estudio realizado por el equipo de investigadores, de universidades de Zurich, Michigan y Utah publicado en la revista Science, puso a prueba el civismo de miles de personas a las que confiaron billeteras \"perdidas\". El experimento consistió en \"perder\" 17.000 carteras (en 355 ciudades) y decir a un empleado del local haber encontrado la cartera en el suelo y que por motivos de tiempo, les pedían ocuparse del asunto.\n",
    "\n",
    "La honestidad ha sido muy estudiada por psicólogos y economistas, pero poco en la vida real y jamás, en 40 países a la vez. Los resultados muestran marcadas diferencias entre los países participantes: con Suiza y los países escandinavos entre los más honestos del listado, mientras que el que Perú, Marruecos y China, se encuentran en los últimos tres lugares."
   ]
  },
  {
   "cell_type": "markdown",
   "metadata": {},
   "source": [
    "<img src=\"https://www.science.org/cms/10.1126/science.aau8712/asset/c1097eeb-12c3-41cb-98f7-26f4ab47ebeb/assets/graphic/365_70_f1.jpeg\" width=\"600\">"
   ]
  },
  {
   "cell_type": "code",
   "execution_count": 49,
   "metadata": {},
   "outputs": [
    {
     "data": {
      "text/html": [
       "<div>\n",
       "<style scoped>\n",
       "    .dataframe tbody tr th:only-of-type {\n",
       "        vertical-align: middle;\n",
       "    }\n",
       "\n",
       "    .dataframe tbody tr th {\n",
       "        vertical-align: top;\n",
       "    }\n",
       "\n",
       "    .dataframe thead th {\n",
       "        text-align: right;\n",
       "    }\n",
       "</style>\n",
       "<table border=\"1\" class=\"dataframe\">\n",
       "  <thead>\n",
       "    <tr style=\"text-align: right;\">\n",
       "      <th></th>\n",
       "      <th>id</th>\n",
       "      <th>country</th>\n",
       "      <th>Country</th>\n",
       "      <th>city</th>\n",
       "      <th>institution</th>\n",
       "      <th>cond</th>\n",
       "      <th>day</th>\n",
       "      <th>response</th>\n",
       "      <th>responsetime</th>\n",
       "      <th>age</th>\n",
       "      <th>...</th>\n",
       "      <th>c_AG_pprotest</th>\n",
       "      <th>c_WVS_familyties</th>\n",
       "      <th>c_DEEP_adjstatehist</th>\n",
       "      <th>c_PIV_years_democracy</th>\n",
       "      <th>c_PIV_exconst</th>\n",
       "      <th>c_GPLS_judicial_independence</th>\n",
       "      <th>c_GPLS_constitutional_review</th>\n",
       "      <th>c_GPLS_plurality</th>\n",
       "      <th>c_GPLS_prop_representation</th>\n",
       "      <th>c_HIST_prim_educ_1920</th>\n",
       "    </tr>\n",
       "  </thead>\n",
       "  <tbody>\n",
       "    <tr>\n",
       "      <th>0</th>\n",
       "      <td>24970</td>\n",
       "      <td>38</td>\n",
       "      <td>UAE</td>\n",
       "      <td>267</td>\n",
       "      <td>2</td>\n",
       "      <td>0</td>\n",
       "      <td>18nov2015</td>\n",
       "      <td>0</td>\n",
       "      <td>NaN</td>\n",
       "      <td>5.0</td>\n",
       "      <td>...</td>\n",
       "      <td>0.3</td>\n",
       "      <td>NaN</td>\n",
       "      <td>NaN</td>\n",
       "      <td>0</td>\n",
       "      <td>3.0</td>\n",
       "      <td>NaN</td>\n",
       "      <td>NaN</td>\n",
       "      <td>NaN</td>\n",
       "      <td>NaN</td>\n",
       "      <td>NaN</td>\n",
       "    </tr>\n",
       "    <tr>\n",
       "      <th>1</th>\n",
       "      <td>24887</td>\n",
       "      <td>38</td>\n",
       "      <td>UAE</td>\n",
       "      <td>240</td>\n",
       "      <td>5</td>\n",
       "      <td>0</td>\n",
       "      <td>12nov2015</td>\n",
       "      <td>0</td>\n",
       "      <td>NaN</td>\n",
       "      <td>4.0</td>\n",
       "      <td>...</td>\n",
       "      <td>0.3</td>\n",
       "      <td>NaN</td>\n",
       "      <td>NaN</td>\n",
       "      <td>0</td>\n",
       "      <td>3.0</td>\n",
       "      <td>NaN</td>\n",
       "      <td>NaN</td>\n",
       "      <td>NaN</td>\n",
       "      <td>NaN</td>\n",
       "      <td>NaN</td>\n",
       "    </tr>\n",
       "    <tr>\n",
       "      <th>2</th>\n",
       "      <td>24981</td>\n",
       "      <td>38</td>\n",
       "      <td>UAE</td>\n",
       "      <td>267</td>\n",
       "      <td>2</td>\n",
       "      <td>1</td>\n",
       "      <td>21nov2015</td>\n",
       "      <td>0</td>\n",
       "      <td>NaN</td>\n",
       "      <td>3.0</td>\n",
       "      <td>...</td>\n",
       "      <td>0.3</td>\n",
       "      <td>NaN</td>\n",
       "      <td>NaN</td>\n",
       "      <td>0</td>\n",
       "      <td>3.0</td>\n",
       "      <td>NaN</td>\n",
       "      <td>NaN</td>\n",
       "      <td>NaN</td>\n",
       "      <td>NaN</td>\n",
       "      <td>NaN</td>\n",
       "    </tr>\n",
       "    <tr>\n",
       "      <th>3</th>\n",
       "      <td>24881</td>\n",
       "      <td>38</td>\n",
       "      <td>UAE</td>\n",
       "      <td>240</td>\n",
       "      <td>4</td>\n",
       "      <td>0</td>\n",
       "      <td>12nov2015</td>\n",
       "      <td>0</td>\n",
       "      <td>NaN</td>\n",
       "      <td>2.0</td>\n",
       "      <td>...</td>\n",
       "      <td>0.3</td>\n",
       "      <td>NaN</td>\n",
       "      <td>NaN</td>\n",
       "      <td>0</td>\n",
       "      <td>3.0</td>\n",
       "      <td>NaN</td>\n",
       "      <td>NaN</td>\n",
       "      <td>NaN</td>\n",
       "      <td>NaN</td>\n",
       "      <td>NaN</td>\n",
       "    </tr>\n",
       "    <tr>\n",
       "      <th>4</th>\n",
       "      <td>25093</td>\n",
       "      <td>38</td>\n",
       "      <td>UAE</td>\n",
       "      <td>327</td>\n",
       "      <td>3</td>\n",
       "      <td>1</td>\n",
       "      <td>10nov2015</td>\n",
       "      <td>0</td>\n",
       "      <td>NaN</td>\n",
       "      <td>3.0</td>\n",
       "      <td>...</td>\n",
       "      <td>0.3</td>\n",
       "      <td>NaN</td>\n",
       "      <td>NaN</td>\n",
       "      <td>0</td>\n",
       "      <td>3.0</td>\n",
       "      <td>NaN</td>\n",
       "      <td>NaN</td>\n",
       "      <td>NaN</td>\n",
       "      <td>NaN</td>\n",
       "      <td>NaN</td>\n",
       "    </tr>\n",
       "    <tr>\n",
       "      <th>...</th>\n",
       "      <td>...</td>\n",
       "      <td>...</td>\n",
       "      <td>...</td>\n",
       "      <td>...</td>\n",
       "      <td>...</td>\n",
       "      <td>...</td>\n",
       "      <td>...</td>\n",
       "      <td>...</td>\n",
       "      <td>...</td>\n",
       "      <td>...</td>\n",
       "      <td>...</td>\n",
       "      <td>...</td>\n",
       "      <td>...</td>\n",
       "      <td>...</td>\n",
       "      <td>...</td>\n",
       "      <td>...</td>\n",
       "      <td>...</td>\n",
       "      <td>...</td>\n",
       "      <td>...</td>\n",
       "      <td>...</td>\n",
       "      <td>...</td>\n",
       "    </tr>\n",
       "    <tr>\n",
       "      <th>17298</th>\n",
       "      <td>22450</td>\n",
       "      <td>32</td>\n",
       "      <td>South Africa</td>\n",
       "      <td>258</td>\n",
       "      <td>4</td>\n",
       "      <td>1</td>\n",
       "      <td>13jan2016</td>\n",
       "      <td>100</td>\n",
       "      <td>0.186933</td>\n",
       "      <td>4.0</td>\n",
       "      <td>...</td>\n",
       "      <td>39.0</td>\n",
       "      <td>0.321623</td>\n",
       "      <td>0.271701</td>\n",
       "      <td>105</td>\n",
       "      <td>7.0</td>\n",
       "      <td>1.0</td>\n",
       "      <td>0.67</td>\n",
       "      <td>0.0</td>\n",
       "      <td>1.0</td>\n",
       "      <td>31.6</td>\n",
       "    </tr>\n",
       "    <tr>\n",
       "      <th>17299</th>\n",
       "      <td>22643</td>\n",
       "      <td>32</td>\n",
       "      <td>South Africa</td>\n",
       "      <td>320</td>\n",
       "      <td>2</td>\n",
       "      <td>1</td>\n",
       "      <td>28jan2016</td>\n",
       "      <td>0</td>\n",
       "      <td>NaN</td>\n",
       "      <td>3.0</td>\n",
       "      <td>...</td>\n",
       "      <td>39.0</td>\n",
       "      <td>0.321623</td>\n",
       "      <td>0.271701</td>\n",
       "      <td>105</td>\n",
       "      <td>7.0</td>\n",
       "      <td>1.0</td>\n",
       "      <td>0.67</td>\n",
       "      <td>0.0</td>\n",
       "      <td>1.0</td>\n",
       "      <td>31.6</td>\n",
       "    </tr>\n",
       "    <tr>\n",
       "      <th>17300</th>\n",
       "      <td>22675</td>\n",
       "      <td>32</td>\n",
       "      <td>South Africa</td>\n",
       "      <td>322</td>\n",
       "      <td>2</td>\n",
       "      <td>0</td>\n",
       "      <td>19jan2016</td>\n",
       "      <td>0</td>\n",
       "      <td>NaN</td>\n",
       "      <td>5.0</td>\n",
       "      <td>...</td>\n",
       "      <td>39.0</td>\n",
       "      <td>0.321623</td>\n",
       "      <td>0.271701</td>\n",
       "      <td>105</td>\n",
       "      <td>7.0</td>\n",
       "      <td>1.0</td>\n",
       "      <td>0.67</td>\n",
       "      <td>0.0</td>\n",
       "      <td>1.0</td>\n",
       "      <td>31.6</td>\n",
       "    </tr>\n",
       "    <tr>\n",
       "      <th>17301</th>\n",
       "      <td>22581</td>\n",
       "      <td>32</td>\n",
       "      <td>South Africa</td>\n",
       "      <td>284</td>\n",
       "      <td>2</td>\n",
       "      <td>1</td>\n",
       "      <td>07feb2016</td>\n",
       "      <td>0</td>\n",
       "      <td>NaN</td>\n",
       "      <td>3.0</td>\n",
       "      <td>...</td>\n",
       "      <td>39.0</td>\n",
       "      <td>0.321623</td>\n",
       "      <td>0.271701</td>\n",
       "      <td>105</td>\n",
       "      <td>7.0</td>\n",
       "      <td>1.0</td>\n",
       "      <td>0.67</td>\n",
       "      <td>0.0</td>\n",
       "      <td>1.0</td>\n",
       "      <td>31.6</td>\n",
       "    </tr>\n",
       "    <tr>\n",
       "      <th>17302</th>\n",
       "      <td>22555</td>\n",
       "      <td>32</td>\n",
       "      <td>South Africa</td>\n",
       "      <td>269</td>\n",
       "      <td>5</td>\n",
       "      <td>1</td>\n",
       "      <td>22jan2016</td>\n",
       "      <td>100</td>\n",
       "      <td>0.190417</td>\n",
       "      <td>5.0</td>\n",
       "      <td>...</td>\n",
       "      <td>39.0</td>\n",
       "      <td>0.321623</td>\n",
       "      <td>0.271701</td>\n",
       "      <td>105</td>\n",
       "      <td>7.0</td>\n",
       "      <td>1.0</td>\n",
       "      <td>0.67</td>\n",
       "      <td>0.0</td>\n",
       "      <td>1.0</td>\n",
       "      <td>31.6</td>\n",
       "    </tr>\n",
       "  </tbody>\n",
       "</table>\n",
       "<p>17303 rows × 57 columns</p>\n",
       "</div>"
      ],
      "text/plain": [
       "          id  country       Country  city  institution  cond        day  \\\n",
       "0      24970       38           UAE   267            2     0  18nov2015   \n",
       "1      24887       38           UAE   240            5     0  12nov2015   \n",
       "2      24981       38           UAE   267            2     1  21nov2015   \n",
       "3      24881       38           UAE   240            4     0  12nov2015   \n",
       "4      25093       38           UAE   327            3     1  10nov2015   \n",
       "...      ...      ...           ...   ...          ...   ...        ...   \n",
       "17298  22450       32  South Africa   258            4     1  13jan2016   \n",
       "17299  22643       32  South Africa   320            2     1  28jan2016   \n",
       "17300  22675       32  South Africa   322            2     0  19jan2016   \n",
       "17301  22581       32  South Africa   284            2     1  07feb2016   \n",
       "17302  22555       32  South Africa   269            5     1  22jan2016   \n",
       "\n",
       "       response  responsetime  age  ...  c_AG_pprotest  c_WVS_familyties  \\\n",
       "0             0           NaN  5.0  ...            0.3               NaN   \n",
       "1             0           NaN  4.0  ...            0.3               NaN   \n",
       "2             0           NaN  3.0  ...            0.3               NaN   \n",
       "3             0           NaN  2.0  ...            0.3               NaN   \n",
       "4             0           NaN  3.0  ...            0.3               NaN   \n",
       "...         ...           ...  ...  ...            ...               ...   \n",
       "17298       100      0.186933  4.0  ...           39.0          0.321623   \n",
       "17299         0           NaN  3.0  ...           39.0          0.321623   \n",
       "17300         0           NaN  5.0  ...           39.0          0.321623   \n",
       "17301         0           NaN  3.0  ...           39.0          0.321623   \n",
       "17302       100      0.190417  5.0  ...           39.0          0.321623   \n",
       "\n",
       "       c_DEEP_adjstatehist  c_PIV_years_democracy  c_PIV_exconst  \\\n",
       "0                      NaN                      0            3.0   \n",
       "1                      NaN                      0            3.0   \n",
       "2                      NaN                      0            3.0   \n",
       "3                      NaN                      0            3.0   \n",
       "4                      NaN                      0            3.0   \n",
       "...                    ...                    ...            ...   \n",
       "17298             0.271701                    105            7.0   \n",
       "17299             0.271701                    105            7.0   \n",
       "17300             0.271701                    105            7.0   \n",
       "17301             0.271701                    105            7.0   \n",
       "17302             0.271701                    105            7.0   \n",
       "\n",
       "       c_GPLS_judicial_independence  c_GPLS_constitutional_review  \\\n",
       "0                               NaN                           NaN   \n",
       "1                               NaN                           NaN   \n",
       "2                               NaN                           NaN   \n",
       "3                               NaN                           NaN   \n",
       "4                               NaN                           NaN   \n",
       "...                             ...                           ...   \n",
       "17298                           1.0                          0.67   \n",
       "17299                           1.0                          0.67   \n",
       "17300                           1.0                          0.67   \n",
       "17301                           1.0                          0.67   \n",
       "17302                           1.0                          0.67   \n",
       "\n",
       "       c_GPLS_plurality  c_GPLS_prop_representation  c_HIST_prim_educ_1920  \n",
       "0                   NaN                         NaN                    NaN  \n",
       "1                   NaN                         NaN                    NaN  \n",
       "2                   NaN                         NaN                    NaN  \n",
       "3                   NaN                         NaN                    NaN  \n",
       "4                   NaN                         NaN                    NaN  \n",
       "...                 ...                         ...                    ...  \n",
       "17298               0.0                         1.0                   31.6  \n",
       "17299               0.0                         1.0                   31.6  \n",
       "17300               0.0                         1.0                   31.6  \n",
       "17301               0.0                         1.0                   31.6  \n",
       "17302               0.0                         1.0                   31.6  \n",
       "\n",
       "[17303 rows x 57 columns]"
      ]
     },
     "execution_count": 49,
     "metadata": {},
     "output_type": "execute_result"
    }
   ],
   "source": [
    "import pandas as pd\n",
    "import matplotlib.pyplot as plt\n",
    "import seaborn as sns\n",
    "\n",
    "# Importar datos\n",
    "civic_raw = pd.read_csv(\"data/civic_data.csv\")\n",
    "civic_raw"
   ]
  },
  {
   "cell_type": "code",
   "execution_count": 55,
   "metadata": {},
   "outputs": [
    {
     "data": {
      "text/plain": [
       "40"
      ]
     },
     "execution_count": 55,
     "metadata": {},
     "output_type": "execute_result"
    }
   ],
   "source": [
    "civic_raw[\"Country\"].nunique()"
   ]
  },
  {
   "cell_type": "code",
   "execution_count": 53,
   "metadata": {},
   "outputs": [
    {
     "data": {
      "text/plain": [
       "Country\n",
       "Peru              13.750000\n",
       "China             14.250000\n",
       "Kenya             17.153285\n",
       "Kazakhstan        17.500000\n",
       "Morocco           17.661692\n",
       "Malaysia          19.250000\n",
       "Ghana             19.732441\n",
       "Mexico            21.000000\n",
       "Indonesia         25.000000\n",
       "UAE               25.500000\n",
       "Turkey            30.750000\n",
       "Thailand          32.000000\n",
       "India             33.000000\n",
       "South Africa      33.834586\n",
       "Chile             36.111111\n",
       "Brazil            41.353383\n",
       "Italy             41.750000\n",
       "Portugal          42.500000\n",
       "Greece            45.250000\n",
       "Israel            46.666667\n",
       "Argentina         47.500000\n",
       "USA               52.800000\n",
       "Russia            53.973510\n",
       "Spain             54.000000\n",
       "Serbia            54.666667\n",
       "Romania           54.750000\n",
       "Canada            55.000000\n",
       "France            55.985037\n",
       "UK                56.625442\n",
       "Croatia           59.333333\n",
       "Germany           60.000000\n",
       "Australia         60.651629\n",
       "Poland            67.750000\n",
       "Czech Republic    70.000000\n",
       "New Zealand       70.750000\n",
       "Netherlands       71.250000\n",
       "Sweden            74.250000\n",
       "Norway            74.666667\n",
       "Denmark           75.000000\n",
       "Switzerland       76.441103\n",
       "Name: response, dtype: float64"
      ]
     },
     "execution_count": 53,
     "metadata": {},
     "output_type": "execute_result"
    }
   ],
   "source": [
    "civic_raw.groupby(\"Country\")[\"response\"].mean().sort_values(ascending=True)"
   ]
  },
  {
   "cell_type": "code",
   "execution_count": 56,
   "metadata": {},
   "outputs": [
    {
     "data": {
      "text/html": [
       "<div>\n",
       "<style scoped>\n",
       "    .dataframe tbody tr th:only-of-type {\n",
       "        vertical-align: middle;\n",
       "    }\n",
       "\n",
       "    .dataframe tbody tr th {\n",
       "        vertical-align: top;\n",
       "    }\n",
       "\n",
       "    .dataframe thead th {\n",
       "        text-align: right;\n",
       "    }\n",
       "</style>\n",
       "<table border=\"1\" class=\"dataframe\">\n",
       "  <thead>\n",
       "    <tr style=\"text-align: right;\">\n",
       "      <th></th>\n",
       "      <th>country</th>\n",
       "      <th>Country</th>\n",
       "      <th>cond</th>\n",
       "      <th>age</th>\n",
       "      <th>response</th>\n",
       "      <th>male</th>\n",
       "      <th>computer</th>\n",
       "    </tr>\n",
       "  </thead>\n",
       "  <tbody>\n",
       "    <tr>\n",
       "      <th>0</th>\n",
       "      <td>38</td>\n",
       "      <td>UAE</td>\n",
       "      <td>0</td>\n",
       "      <td>5.0</td>\n",
       "      <td>0</td>\n",
       "      <td>1.0</td>\n",
       "      <td>1.0</td>\n",
       "    </tr>\n",
       "    <tr>\n",
       "      <th>1</th>\n",
       "      <td>38</td>\n",
       "      <td>UAE</td>\n",
       "      <td>0</td>\n",
       "      <td>4.0</td>\n",
       "      <td>0</td>\n",
       "      <td>1.0</td>\n",
       "      <td>1.0</td>\n",
       "    </tr>\n",
       "    <tr>\n",
       "      <th>2</th>\n",
       "      <td>38</td>\n",
       "      <td>UAE</td>\n",
       "      <td>1</td>\n",
       "      <td>3.0</td>\n",
       "      <td>0</td>\n",
       "      <td>1.0</td>\n",
       "      <td>1.0</td>\n",
       "    </tr>\n",
       "    <tr>\n",
       "      <th>3</th>\n",
       "      <td>38</td>\n",
       "      <td>UAE</td>\n",
       "      <td>0</td>\n",
       "      <td>2.0</td>\n",
       "      <td>0</td>\n",
       "      <td>0.0</td>\n",
       "      <td>1.0</td>\n",
       "    </tr>\n",
       "    <tr>\n",
       "      <th>4</th>\n",
       "      <td>38</td>\n",
       "      <td>UAE</td>\n",
       "      <td>1</td>\n",
       "      <td>3.0</td>\n",
       "      <td>0</td>\n",
       "      <td>0.0</td>\n",
       "      <td>1.0</td>\n",
       "    </tr>\n",
       "  </tbody>\n",
       "</table>\n",
       "</div>"
      ],
      "text/plain": [
       "   country Country  cond  age  response  male  computer\n",
       "0       38     UAE     0  5.0         0   1.0       1.0\n",
       "1       38     UAE     0  4.0         0   1.0       1.0\n",
       "2       38     UAE     1  3.0         0   1.0       1.0\n",
       "3       38     UAE     0  2.0         0   0.0       1.0\n",
       "4       38     UAE     1  3.0         0   0.0       1.0"
      ]
     },
     "execution_count": 56,
     "metadata": {},
     "output_type": "execute_result"
    }
   ],
   "source": [
    "import pandas as pd\n",
    "import matplotlib.pyplot as plt\n",
    "import seaborn as sns\n",
    "\n",
    "# Importar datos\n",
    "civic_raw = pd.read_csv(\"data/civic_data.csv\")\n",
    "\n",
    "# Previsualizar las columnas relevantes\n",
    "civic_raw[[\"country\", \"Country\", \"cond\", \"age\", \"response\", \"male\", \"computer\"]].head()\n"
   ]
  },
  {
   "cell_type": "code",
   "execution_count": 62,
   "metadata": {},
   "outputs": [
    {
     "data": {
      "text/plain": [
       "<pandas.core.groupby.generic.DataFrameGroupBy object at 0x13a0fa410>"
      ]
     },
     "execution_count": 62,
     "metadata": {},
     "output_type": "execute_result"
    }
   ],
   "source": []
  },
  {
   "cell_type": "code",
   "execution_count": 66,
   "metadata": {},
   "outputs": [
    {
     "data": {
      "text/html": [
       "<div>\n",
       "<style scoped>\n",
       "    .dataframe tbody tr th:only-of-type {\n",
       "        vertical-align: middle;\n",
       "    }\n",
       "\n",
       "    .dataframe tbody tr th {\n",
       "        vertical-align: top;\n",
       "    }\n",
       "\n",
       "    .dataframe thead th {\n",
       "        text-align: right;\n",
       "    }\n",
       "</style>\n",
       "<table border=\"1\" class=\"dataframe\">\n",
       "  <thead>\n",
       "    <tr style=\"text-align: right;\">\n",
       "      <th></th>\n",
       "      <th>Country</th>\n",
       "      <th>cond</th>\n",
       "      <th>reported</th>\n",
       "    </tr>\n",
       "  </thead>\n",
       "  <tbody>\n",
       "    <tr>\n",
       "      <th>0</th>\n",
       "      <td>Argentina</td>\n",
       "      <td>0</td>\n",
       "      <td>46.000000</td>\n",
       "    </tr>\n",
       "    <tr>\n",
       "      <th>1</th>\n",
       "      <td>Argentina</td>\n",
       "      <td>1</td>\n",
       "      <td>49.000000</td>\n",
       "    </tr>\n",
       "    <tr>\n",
       "      <th>2</th>\n",
       "      <td>Australia</td>\n",
       "      <td>0</td>\n",
       "      <td>52.261307</td>\n",
       "    </tr>\n",
       "    <tr>\n",
       "      <th>3</th>\n",
       "      <td>Australia</td>\n",
       "      <td>1</td>\n",
       "      <td>69.000000</td>\n",
       "    </tr>\n",
       "    <tr>\n",
       "      <th>4</th>\n",
       "      <td>Brazil</td>\n",
       "      <td>0</td>\n",
       "      <td>34.000000</td>\n",
       "    </tr>\n",
       "  </tbody>\n",
       "</table>\n",
       "</div>"
      ],
      "text/plain": [
       "     Country  cond   reported\n",
       "0  Argentina     0  46.000000\n",
       "1  Argentina     1  49.000000\n",
       "2  Australia     0  52.261307\n",
       "3  Australia     1  69.000000\n",
       "4     Brazil     0  34.000000"
      ]
     },
     "execution_count": 66,
     "metadata": {},
     "output_type": "execute_result"
    }
   ],
   "source": [
    "# Filtrar y agrupar los datos según las condiciones\n",
    "civic = (civic_raw[civic_raw['cond'].isin([0, 1])]\n",
    "         .groupby(['Country', 'cond'], as_index=False)\n",
    "         .agg(reported=('response', 'mean')))\n",
    "\n",
    "# Ver los datos procesados\n",
    "civic.head()\n"
   ]
  },
  {
   "cell_type": "code",
   "execution_count": 67,
   "metadata": {},
   "outputs": [
    {
     "data": {
      "text/html": [
       "<div>\n",
       "<style scoped>\n",
       "    .dataframe tbody tr th:only-of-type {\n",
       "        vertical-align: middle;\n",
       "    }\n",
       "\n",
       "    .dataframe tbody tr th {\n",
       "        vertical-align: top;\n",
       "    }\n",
       "\n",
       "    .dataframe thead th {\n",
       "        text-align: right;\n",
       "    }\n",
       "</style>\n",
       "<table border=\"1\" class=\"dataframe\">\n",
       "  <thead>\n",
       "    <tr style=\"text-align: right;\">\n",
       "      <th></th>\n",
       "      <th>Country</th>\n",
       "      <th>cond</th>\n",
       "      <th>reported</th>\n",
       "    </tr>\n",
       "  </thead>\n",
       "  <tbody>\n",
       "    <tr>\n",
       "      <th>1</th>\n",
       "      <td>Argentina</td>\n",
       "      <td>1</td>\n",
       "      <td>49.000000</td>\n",
       "    </tr>\n",
       "    <tr>\n",
       "      <th>3</th>\n",
       "      <td>Australia</td>\n",
       "      <td>1</td>\n",
       "      <td>69.000000</td>\n",
       "    </tr>\n",
       "    <tr>\n",
       "      <th>5</th>\n",
       "      <td>Brazil</td>\n",
       "      <td>1</td>\n",
       "      <td>48.743719</td>\n",
       "    </tr>\n",
       "    <tr>\n",
       "      <th>7</th>\n",
       "      <td>Canada</td>\n",
       "      <td>1</td>\n",
       "      <td>63.500000</td>\n",
       "    </tr>\n",
       "    <tr>\n",
       "      <th>9</th>\n",
       "      <td>Chile</td>\n",
       "      <td>1</td>\n",
       "      <td>36.868687</td>\n",
       "    </tr>\n",
       "    <tr>\n",
       "      <th>11</th>\n",
       "      <td>China</td>\n",
       "      <td>1</td>\n",
       "      <td>21.500000</td>\n",
       "    </tr>\n",
       "    <tr>\n",
       "      <th>13</th>\n",
       "      <td>Croatia</td>\n",
       "      <td>1</td>\n",
       "      <td>66.666667</td>\n",
       "    </tr>\n",
       "    <tr>\n",
       "      <th>15</th>\n",
       "      <td>Czech Republic</td>\n",
       "      <td>1</td>\n",
       "      <td>78.000000</td>\n",
       "    </tr>\n",
       "    <tr>\n",
       "      <th>17</th>\n",
       "      <td>Denmark</td>\n",
       "      <td>1</td>\n",
       "      <td>82.000000</td>\n",
       "    </tr>\n",
       "    <tr>\n",
       "      <th>19</th>\n",
       "      <td>France</td>\n",
       "      <td>1</td>\n",
       "      <td>58.354115</td>\n",
       "    </tr>\n",
       "    <tr>\n",
       "      <th>21</th>\n",
       "      <td>Germany</td>\n",
       "      <td>1</td>\n",
       "      <td>65.000000</td>\n",
       "    </tr>\n",
       "    <tr>\n",
       "      <th>23</th>\n",
       "      <td>Ghana</td>\n",
       "      <td>1</td>\n",
       "      <td>22.000000</td>\n",
       "    </tr>\n",
       "    <tr>\n",
       "      <th>25</th>\n",
       "      <td>Greece</td>\n",
       "      <td>1</td>\n",
       "      <td>53.500000</td>\n",
       "    </tr>\n",
       "    <tr>\n",
       "      <th>27</th>\n",
       "      <td>India</td>\n",
       "      <td>1</td>\n",
       "      <td>43.718593</td>\n",
       "    </tr>\n",
       "    <tr>\n",
       "      <th>29</th>\n",
       "      <td>Indonesia</td>\n",
       "      <td>1</td>\n",
       "      <td>33.000000</td>\n",
       "    </tr>\n",
       "    <tr>\n",
       "      <th>31</th>\n",
       "      <td>Israel</td>\n",
       "      <td>1</td>\n",
       "      <td>50.000000</td>\n",
       "    </tr>\n",
       "    <tr>\n",
       "      <th>33</th>\n",
       "      <td>Italy</td>\n",
       "      <td>1</td>\n",
       "      <td>47.500000</td>\n",
       "    </tr>\n",
       "    <tr>\n",
       "      <th>35</th>\n",
       "      <td>Kazakhstan</td>\n",
       "      <td>1</td>\n",
       "      <td>20.895522</td>\n",
       "    </tr>\n",
       "    <tr>\n",
       "      <th>37</th>\n",
       "      <td>Kenya</td>\n",
       "      <td>1</td>\n",
       "      <td>18.978102</td>\n",
       "    </tr>\n",
       "    <tr>\n",
       "      <th>39</th>\n",
       "      <td>Malaysia</td>\n",
       "      <td>1</td>\n",
       "      <td>22.500000</td>\n",
       "    </tr>\n",
       "    <tr>\n",
       "      <th>41</th>\n",
       "      <td>Mexico</td>\n",
       "      <td>1</td>\n",
       "      <td>18.000000</td>\n",
       "    </tr>\n",
       "    <tr>\n",
       "      <th>43</th>\n",
       "      <td>Morocco</td>\n",
       "      <td>1</td>\n",
       "      <td>22.051282</td>\n",
       "    </tr>\n",
       "    <tr>\n",
       "      <th>45</th>\n",
       "      <td>Netherlands</td>\n",
       "      <td>1</td>\n",
       "      <td>74.000000</td>\n",
       "    </tr>\n",
       "    <tr>\n",
       "      <th>47</th>\n",
       "      <td>New Zealand</td>\n",
       "      <td>1</td>\n",
       "      <td>80.000000</td>\n",
       "    </tr>\n",
       "    <tr>\n",
       "      <th>49</th>\n",
       "      <td>Norway</td>\n",
       "      <td>1</td>\n",
       "      <td>78.666667</td>\n",
       "    </tr>\n",
       "    <tr>\n",
       "      <th>51</th>\n",
       "      <td>Peru</td>\n",
       "      <td>1</td>\n",
       "      <td>13.432836</td>\n",
       "    </tr>\n",
       "    <tr>\n",
       "      <th>53</th>\n",
       "      <td>Poland</td>\n",
       "      <td>1</td>\n",
       "      <td>68.500000</td>\n",
       "    </tr>\n",
       "    <tr>\n",
       "      <th>55</th>\n",
       "      <td>Portugal</td>\n",
       "      <td>1</td>\n",
       "      <td>45.000000</td>\n",
       "    </tr>\n",
       "    <tr>\n",
       "      <th>57</th>\n",
       "      <td>Romania</td>\n",
       "      <td>1</td>\n",
       "      <td>61.000000</td>\n",
       "    </tr>\n",
       "    <tr>\n",
       "      <th>59</th>\n",
       "      <td>Russia</td>\n",
       "      <td>1</td>\n",
       "      <td>58.940397</td>\n",
       "    </tr>\n",
       "    <tr>\n",
       "      <th>61</th>\n",
       "      <td>Serbia</td>\n",
       "      <td>1</td>\n",
       "      <td>56.000000</td>\n",
       "    </tr>\n",
       "    <tr>\n",
       "      <th>63</th>\n",
       "      <td>South Africa</td>\n",
       "      <td>1</td>\n",
       "      <td>38.693467</td>\n",
       "    </tr>\n",
       "    <tr>\n",
       "      <th>65</th>\n",
       "      <td>Spain</td>\n",
       "      <td>1</td>\n",
       "      <td>58.500000</td>\n",
       "    </tr>\n",
       "    <tr>\n",
       "      <th>67</th>\n",
       "      <td>Sweden</td>\n",
       "      <td>1</td>\n",
       "      <td>81.500000</td>\n",
       "    </tr>\n",
       "    <tr>\n",
       "      <th>69</th>\n",
       "      <td>Switzerland</td>\n",
       "      <td>1</td>\n",
       "      <td>79.000000</td>\n",
       "    </tr>\n",
       "    <tr>\n",
       "      <th>71</th>\n",
       "      <td>Thailand</td>\n",
       "      <td>1</td>\n",
       "      <td>40.000000</td>\n",
       "    </tr>\n",
       "    <tr>\n",
       "      <th>73</th>\n",
       "      <td>Turkey</td>\n",
       "      <td>1</td>\n",
       "      <td>41.500000</td>\n",
       "    </tr>\n",
       "    <tr>\n",
       "      <th>75</th>\n",
       "      <td>UAE</td>\n",
       "      <td>1</td>\n",
       "      <td>35.000000</td>\n",
       "    </tr>\n",
       "    <tr>\n",
       "      <th>77</th>\n",
       "      <td>UK</td>\n",
       "      <td>1</td>\n",
       "      <td>60.600375</td>\n",
       "    </tr>\n",
       "    <tr>\n",
       "      <th>79</th>\n",
       "      <td>USA</td>\n",
       "      <td>1</td>\n",
       "      <td>57.333333</td>\n",
       "    </tr>\n",
       "  </tbody>\n",
       "</table>\n",
       "</div>"
      ],
      "text/plain": [
       "           Country  cond   reported\n",
       "1        Argentina     1  49.000000\n",
       "3        Australia     1  69.000000\n",
       "5           Brazil     1  48.743719\n",
       "7           Canada     1  63.500000\n",
       "9            Chile     1  36.868687\n",
       "11           China     1  21.500000\n",
       "13         Croatia     1  66.666667\n",
       "15  Czech Republic     1  78.000000\n",
       "17         Denmark     1  82.000000\n",
       "19          France     1  58.354115\n",
       "21         Germany     1  65.000000\n",
       "23           Ghana     1  22.000000\n",
       "25          Greece     1  53.500000\n",
       "27           India     1  43.718593\n",
       "29       Indonesia     1  33.000000\n",
       "31          Israel     1  50.000000\n",
       "33           Italy     1  47.500000\n",
       "35      Kazakhstan     1  20.895522\n",
       "37           Kenya     1  18.978102\n",
       "39        Malaysia     1  22.500000\n",
       "41          Mexico     1  18.000000\n",
       "43         Morocco     1  22.051282\n",
       "45     Netherlands     1  74.000000\n",
       "47     New Zealand     1  80.000000\n",
       "49          Norway     1  78.666667\n",
       "51            Peru     1  13.432836\n",
       "53          Poland     1  68.500000\n",
       "55        Portugal     1  45.000000\n",
       "57         Romania     1  61.000000\n",
       "59          Russia     1  58.940397\n",
       "61          Serbia     1  56.000000\n",
       "63    South Africa     1  38.693467\n",
       "65           Spain     1  58.500000\n",
       "67          Sweden     1  81.500000\n",
       "69     Switzerland     1  79.000000\n",
       "71        Thailand     1  40.000000\n",
       "73          Turkey     1  41.500000\n",
       "75             UAE     1  35.000000\n",
       "77              UK     1  60.600375\n",
       "79             USA     1  57.333333"
      ]
     },
     "execution_count": 67,
     "metadata": {},
     "output_type": "execute_result"
    }
   ],
   "source": [
    "# Filtrar para el gráfico (cond == 1) y gráfico básico\n",
    "civic_cond_1 = civic[civic['cond'] == 1]\n",
    "civic_cond_1"
   ]
  },
  {
   "cell_type": "code",
   "execution_count": 70,
   "metadata": {},
   "outputs": [
    {
     "data": {
      "image/png": "[encoded data removed]",
      "text/plain": [
       "<Figure size 600x500 with 1 Axes>"
      ]
     },
     "metadata": {},
     "output_type": "display_data"
    }
   ],
   "source": [
    "# Filtrar para el gráfico (cond == 1) y gráfico básico\n",
    "civic_cond_1 = civic[civic['cond'] == 1]\n",
    "\n",
    "# Gráfico básico\n",
    "plt.figure(figsize=(6, 5))\n",
    "sns.scatterplot(data=civic_cond_1, x='Country', y='reported')\n",
    "plt.title('Gráfico Básico: Reporte de billeteras con dinero (cond == 1)')\n",
    "plt.xlabel('País')\n",
    "plt.ylabel('Tasa de reporte (%)')\n",
    "plt.xticks(rotation=90)\n",
    "plt.show()\n"
   ]
  },
  {
   "cell_type": "code",
   "execution_count": 72,
   "metadata": {},
   "outputs": [
    {
     "data": {
      "image/png": "[encoded data removed]",
      "text/plain": [
       "<Figure size 1200x800 with 1 Axes>"
      ]
     },
     "metadata": {},
     "output_type": "display_data"
    }
   ],
   "source": [
    "# Gráfico sofisticado\n",
    "plt.figure(figsize=(12, 8))\n",
    "sorted_data = civic_cond_1.sort_values(by='reported', ascending=True)\n",
    "\n",
    "sns.scatterplot(\n",
    "    data=sorted_data,\n",
    "    x='reported',\n",
    "    y=pd.Categorical(sorted_data['Country'], categories=sorted_data['Country']),\n",
    "    hue=sorted_data['Country'] != 'Peru',\n",
    "    size=sorted_data['Country'] != 'Peru',\n",
    "    sizes=(100, 50),\n",
    "    palette={True: \"#595959\", False: \"#E3120B\"}\n",
    ")\n",
    "\n",
    "# # Añadir etiquetas al lado de los puntos\n",
    "# for index, row in sorted_data.iterrows():\n",
    "#     plt.text(row['reported'] + 1, row['Country'], row['Country'],\n",
    "#              color=\"#E3120B\" if row['Country'] == 'Peru' else \"#595959\",\n",
    "#              fontsize=8, va='center')\n",
    "\n",
    "# Ajustes finales\n",
    "plt.title(\"Porcentaje de billeteras con dinero reportadas, según país\", fontsize=14, weight='bold')\n",
    "plt.suptitle(\"(El dinero incluido considera US$13.45 ajustado por poder de paridad de compra)\", fontsize=10, y=0.885)\n",
    "plt.xlabel(\"Tasa de reporte (%)\")\n",
    "plt.ylabel(None)\n",
    "plt.grid(axis='x', linestyle='--', alpha=0.7)\n",
    "plt.xlim(0, 85)\n",
    "plt.xticks(range(0, 90, 10))\n",
    "plt.legend([], [], frameon=False)  # Ocultar leyenda\n",
    "plt.gca().spines['left'].set_visible(False)\n",
    "plt.gca().spines['top'].set_visible(False)\n",
    "plt.gca().spines['right'].set_visible(False)\n",
    "plt.show()\n"
   ]
  }
 ],
 "metadata": {
  "hide_input": false,
  "kernelspec": {
   "display_name": "base",
   "language": "python",
   "name": "python3"
  },
  "language_info": {
   "codemirror_mode": {
    "name": "ipython",
    "version": 3
   },
   "file_extension": ".py",
   "mimetype": "text/x-python",
   "name": "python",
   "nbconvert_exporter": "python",
   "pygments_lexer": "ipython3",
   "version": "3.11.7"
  },
  "toc": {
   "base_numbering": 1,
   "nav_menu": {},
   "number_sections": true,
   "sideBar": true,
   "skip_h1_title": false,
   "title_cell": "Table of Contents",
   "title_sidebar": "Contents",
   "toc_cell": false,
   "toc_position": {},
   "toc_section_display": true,
   "toc_window_display": false
  }
 },
 "nbformat": 4,
 "nbformat_minor": 4
}
